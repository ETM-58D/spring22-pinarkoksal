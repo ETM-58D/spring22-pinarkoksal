{
 "cells": [
  {
   "cell_type": "markdown",
   "id": "e6aa1718",
   "metadata": {},
   "source": [
    "# ETM 58D Spring 22 Final\n",
    "## Pınar Köksal, 05.06.2022"
   ]
  },
  {
   "cell_type": "markdown",
   "id": "43d4e8b4",
   "metadata": {},
   "source": [
    "For the analysis, following datasets are analyzed accordingly.\n",
    "\n",
    "1- https://archive-beta.ics.uci.edu/ml/datasets/student+performance\n",
    "\n",
    "2- https://archive-beta.ics.uci.edu/ml/datasets/absenteeism+at+work\n",
    "\n",
    "3- http://archive.ics.uci.edu/ml/datasets/Turkish+Music+Emotion+Dataset"
   ]
  },
  {
   "cell_type": "code",
   "execution_count": 2,
   "id": "a292c013",
   "metadata": {},
   "outputs": [
    {
     "name": "stderr",
     "output_type": "stream",
     "text": [
      "Loading required package: ggplot2\n",
      "Warning message in library(package, lib.loc = lib.loc, character.only = TRUE, logical.return = TRUE, :\n",
      "\"there is no package called 'ggplot2'\"Loading required package: tidyverse\n",
      "Warning message in library(package, lib.loc = lib.loc, character.only = TRUE, logical.return = TRUE, :\n",
      "\"there is no package called 'tidyverse'\"Loading required package: rpart\n",
      "Warning message:\n",
      "\"package 'rpart' was built under R version 3.6.3\"Loading required package: dplyr\n",
      "Warning message:\n",
      "\"package 'dplyr' was built under R version 3.6.3\"\n",
      "Attaching package: 'dplyr'\n",
      "\n",
      "The following objects are masked from 'package:stats':\n",
      "\n",
      "    filter, lag\n",
      "\n",
      "The following objects are masked from 'package:base':\n",
      "\n",
      "    intersect, setdiff, setequal, union\n",
      "\n",
      "Loading required package: rpart.plot\n",
      "Loading required package: rattle\n",
      "Warning message in library(package, lib.loc = lib.loc, character.only = TRUE, logical.return = TRUE, :\n",
      "\"there is no package called 'rattle'\"Loading required package: randomForest\n",
      "Warning message in library(package, lib.loc = lib.loc, character.only = TRUE, logical.return = TRUE, :\n",
      "\"there is no package called 'randomForest'\"Loading required package: ranger\n",
      "Warning message:\n",
      "\"package 'ranger' was built under R version 3.6.3\"Loading required package: data.table\n",
      "Warning message:\n",
      "\"package 'data.table' was built under R version 3.6.3\"\n",
      "Attaching package: 'data.table'\n",
      "\n",
      "The following objects are masked from 'package:dplyr':\n",
      "\n",
      "    between, first, last\n",
      "\n"
     ]
    }
   ],
   "source": [
    "# Required packages:\n",
    "\n",
    "# install.packages('rpart')\n",
    "# install.packages('rpart.plot')\n",
    "# install.packages('rattle')\n",
    "# install.packages('randomForest')\n",
    "# install.packages('ranger')\n",
    "\n",
    "\n",
    "require(ggplot2)\n",
    "require(tidyverse)\n",
    "require(rpart)\n",
    "require(dplyr)\n",
    "require(rpart.plot)\n",
    "require(rattle)\n",
    "require(randomForest)\n",
    "require(ranger)\n",
    "require(data.table)"
   ]
  },
  {
   "cell_type": "markdown",
   "id": "c69cc804",
   "metadata": {},
   "source": [
    "## Dataset 1 - Student Performance\n",
    "The first dataset student performance shows the test results of the math class along with some features like father's education, extra-curricular activities, current health status etc.\n",
    "\n",
    "The target output is the final grade of the students. Total number of features are 32 and there are 382 students."
   ]
  },
  {
   "cell_type": "code",
   "execution_count": 3,
   "id": "1fc3fe95",
   "metadata": {},
   "outputs": [
    {
     "data": {
      "text/html": [
       "<table>\n",
       "<thead><tr><th scope=col>school</th><th scope=col>sex</th><th scope=col>age</th><th scope=col>address</th><th scope=col>famsize</th><th scope=col>Pstatus</th><th scope=col>Medu</th><th scope=col>Fedu</th><th scope=col>Mjob</th><th scope=col>Fjob</th><th scope=col>...</th><th scope=col>famrel</th><th scope=col>freetime</th><th scope=col>goout</th><th scope=col>Dalc</th><th scope=col>Walc</th><th scope=col>health</th><th scope=col>absences</th><th scope=col>G1</th><th scope=col>G2</th><th scope=col>G3</th></tr></thead>\n",
       "<tbody>\n",
       "\t<tr><td>GP      </td><td>F       </td><td>18      </td><td>U       </td><td>GT3     </td><td>A       </td><td>4       </td><td>4       </td><td>at_home </td><td>teacher </td><td>...     </td><td>4       </td><td>3       </td><td>4       </td><td>1       </td><td>1       </td><td>3       </td><td> 6      </td><td> 5      </td><td> 6      </td><td> 6      </td></tr>\n",
       "\t<tr><td>GP      </td><td>F       </td><td>17      </td><td>U       </td><td>GT3     </td><td>T       </td><td>1       </td><td>1       </td><td>at_home </td><td>other   </td><td>...     </td><td>5       </td><td>3       </td><td>3       </td><td>1       </td><td>1       </td><td>3       </td><td> 4      </td><td> 5      </td><td> 5      </td><td> 6      </td></tr>\n",
       "\t<tr><td>GP      </td><td>F       </td><td>15      </td><td>U       </td><td>LE3     </td><td>T       </td><td>1       </td><td>1       </td><td>at_home </td><td>other   </td><td>...     </td><td>4       </td><td>3       </td><td>2       </td><td>2       </td><td>3       </td><td>3       </td><td>10      </td><td> 7      </td><td> 8      </td><td>10      </td></tr>\n",
       "\t<tr><td>GP      </td><td>F       </td><td>15      </td><td>U       </td><td>GT3     </td><td>T       </td><td>4       </td><td>2       </td><td>health  </td><td>services</td><td>...     </td><td>3       </td><td>2       </td><td>2       </td><td>1       </td><td>1       </td><td>5       </td><td> 2      </td><td>15      </td><td>14      </td><td>15      </td></tr>\n",
       "\t<tr><td>GP      </td><td>F       </td><td>16      </td><td>U       </td><td>GT3     </td><td>T       </td><td>3       </td><td>3       </td><td>other   </td><td>other   </td><td>...     </td><td>4       </td><td>3       </td><td>2       </td><td>1       </td><td>2       </td><td>5       </td><td> 4      </td><td> 6      </td><td>10      </td><td>10      </td></tr>\n",
       "\t<tr><td>GP      </td><td>M       </td><td>16      </td><td>U       </td><td>LE3     </td><td>T       </td><td>4       </td><td>3       </td><td>services</td><td>other   </td><td>...     </td><td>5       </td><td>4       </td><td>2       </td><td>1       </td><td>2       </td><td>5       </td><td>10      </td><td>15      </td><td>15      </td><td>15      </td></tr>\n",
       "</tbody>\n",
       "</table>\n"
      ],
      "text/latex": [
       "\\begin{tabular}{r|lllllllllllllllllllllllllllllllll}\n",
       " school & sex & age & address & famsize & Pstatus & Medu & Fedu & Mjob & Fjob & ... & famrel & freetime & goout & Dalc & Walc & health & absences & G1 & G2 & G3\\\\\n",
       "\\hline\n",
       "\t GP         & F          & 18         & U          & GT3        & A          & 4          & 4          & at\\_home  & teacher    & ...        & 4          & 3          & 4          & 1          & 1          & 3          &  6         &  5         &  6         &  6        \\\\\n",
       "\t GP         & F          & 17         & U          & GT3        & T          & 1          & 1          & at\\_home  & other      & ...        & 5          & 3          & 3          & 1          & 1          & 3          &  4         &  5         &  5         &  6        \\\\\n",
       "\t GP         & F          & 15         & U          & LE3        & T          & 1          & 1          & at\\_home  & other      & ...        & 4          & 3          & 2          & 2          & 3          & 3          & 10         &  7         &  8         & 10        \\\\\n",
       "\t GP       & F        & 15       & U        & GT3      & T        & 4        & 2        & health   & services & ...      & 3        & 2        & 2        & 1        & 1        & 5        &  2       & 15       & 14       & 15      \\\\\n",
       "\t GP       & F        & 16       & U        & GT3      & T        & 3        & 3        & other    & other    & ...      & 4        & 3        & 2        & 1        & 2        & 5        &  4       &  6       & 10       & 10      \\\\\n",
       "\t GP       & M        & 16       & U        & LE3      & T        & 4        & 3        & services & other    & ...      & 5        & 4        & 2        & 1        & 2        & 5        & 10       & 15       & 15       & 15      \\\\\n",
       "\\end{tabular}\n"
      ],
      "text/markdown": [
       "\n",
       "| school | sex | age | address | famsize | Pstatus | Medu | Fedu | Mjob | Fjob | ... | famrel | freetime | goout | Dalc | Walc | health | absences | G1 | G2 | G3 |\n",
       "|---|---|---|---|---|---|---|---|---|---|---|---|---|---|---|---|---|---|---|---|---|\n",
       "| GP       | F        | 18       | U        | GT3      | A        | 4        | 4        | at_home  | teacher  | ...      | 4        | 3        | 4        | 1        | 1        | 3        |  6       |  5       |  6       |  6       |\n",
       "| GP       | F        | 17       | U        | GT3      | T        | 1        | 1        | at_home  | other    | ...      | 5        | 3        | 3        | 1        | 1        | 3        |  4       |  5       |  5       |  6       |\n",
       "| GP       | F        | 15       | U        | LE3      | T        | 1        | 1        | at_home  | other    | ...      | 4        | 3        | 2        | 2        | 3        | 3        | 10       |  7       |  8       | 10       |\n",
       "| GP       | F        | 15       | U        | GT3      | T        | 4        | 2        | health   | services | ...      | 3        | 2        | 2        | 1        | 1        | 5        |  2       | 15       | 14       | 15       |\n",
       "| GP       | F        | 16       | U        | GT3      | T        | 3        | 3        | other    | other    | ...      | 4        | 3        | 2        | 1        | 2        | 5        |  4       |  6       | 10       | 10       |\n",
       "| GP       | M        | 16       | U        | LE3      | T        | 4        | 3        | services | other    | ...      | 5        | 4        | 2        | 1        | 2        | 5        | 10       | 15       | 15       | 15       |\n",
       "\n"
      ],
      "text/plain": [
       "  school sex age address famsize Pstatus Medu Fedu Mjob     Fjob     ... famrel\n",
       "1 GP     F   18  U       GT3     A       4    4    at_home  teacher  ... 4     \n",
       "2 GP     F   17  U       GT3     T       1    1    at_home  other    ... 5     \n",
       "3 GP     F   15  U       LE3     T       1    1    at_home  other    ... 4     \n",
       "4 GP     F   15  U       GT3     T       4    2    health   services ... 3     \n",
       "5 GP     F   16  U       GT3     T       3    3    other    other    ... 4     \n",
       "6 GP     M   16  U       LE3     T       4    3    services other    ... 5     \n",
       "  freetime goout Dalc Walc health absences G1 G2 G3\n",
       "1 3        4     1    1    3       6        5  6  6\n",
       "2 3        3     1    1    3       4        5  5  6\n",
       "3 3        2     2    3    3      10        7  8 10\n",
       "4 2        2     1    1    5       2       15 14 15\n",
       "5 3        2     1    2    5       4        6 10 10\n",
       "6 4        2     1    2    5      10       15 15 15"
      ]
     },
     "metadata": {},
     "output_type": "display_data"
    },
    {
     "name": "stdout",
     "output_type": "stream",
     "text": [
      "'data.frame':\t395 obs. of  33 variables:\n",
      " $ school    : Factor w/ 2 levels \"GP\",\"MS\": 1 1 1 1 1 1 1 1 1 1 ...\n",
      " $ sex       : Factor w/ 2 levels \"F\",\"M\": 1 1 1 1 1 2 2 1 2 2 ...\n",
      " $ age       : int  18 17 15 15 16 16 16 17 15 15 ...\n",
      " $ address   : Factor w/ 2 levels \"R\",\"U\": 2 2 2 2 2 2 2 2 2 2 ...\n",
      " $ famsize   : Factor w/ 2 levels \"GT3\",\"LE3\": 1 1 2 1 1 2 2 1 2 1 ...\n",
      " $ Pstatus   : Factor w/ 2 levels \"A\",\"T\": 1 2 2 2 2 2 2 1 1 2 ...\n",
      " $ Medu      : int  4 1 1 4 3 4 2 4 3 3 ...\n",
      " $ Fedu      : int  4 1 1 2 3 3 2 4 2 4 ...\n",
      " $ Mjob      : Factor w/ 5 levels \"at_home\",\"health\",..: 1 1 1 2 3 4 3 3 4 3 ...\n",
      " $ Fjob      : Factor w/ 5 levels \"at_home\",\"health\",..: 5 3 3 4 3 3 3 5 3 3 ...\n",
      " $ reason    : Factor w/ 4 levels \"course\",\"home\",..: 1 1 3 2 2 4 2 2 2 2 ...\n",
      " $ guardian  : Factor w/ 3 levels \"father\",\"mother\",..: 2 1 2 2 1 2 2 2 2 2 ...\n",
      " $ traveltime: int  2 1 1 1 1 1 1 2 1 1 ...\n",
      " $ studytime : int  2 2 2 3 2 2 2 2 2 2 ...\n",
      " $ failures  : int  0 0 3 0 0 0 0 0 0 0 ...\n",
      " $ schoolsup : Factor w/ 2 levels \"no\",\"yes\": 2 1 2 1 1 1 1 2 1 1 ...\n",
      " $ famsup    : Factor w/ 2 levels \"no\",\"yes\": 1 2 1 2 2 2 1 2 2 2 ...\n",
      " $ paid      : Factor w/ 2 levels \"no\",\"yes\": 1 1 2 2 2 2 1 1 2 2 ...\n",
      " $ activities: Factor w/ 2 levels \"no\",\"yes\": 1 1 1 2 1 2 1 1 1 2 ...\n",
      " $ nursery   : Factor w/ 2 levels \"no\",\"yes\": 2 1 2 2 2 2 2 2 2 2 ...\n",
      " $ higher    : Factor w/ 2 levels \"no\",\"yes\": 2 2 2 2 2 2 2 2 2 2 ...\n",
      " $ internet  : Factor w/ 2 levels \"no\",\"yes\": 1 2 2 2 1 2 2 1 2 2 ...\n",
      " $ romantic  : Factor w/ 2 levels \"no\",\"yes\": 1 1 1 2 1 1 1 1 1 1 ...\n",
      " $ famrel    : int  4 5 4 3 4 5 4 4 4 5 ...\n",
      " $ freetime  : int  3 3 3 2 3 4 4 1 2 5 ...\n",
      " $ goout     : int  4 3 2 2 2 2 4 4 2 1 ...\n",
      " $ Dalc      : int  1 1 2 1 1 1 1 1 1 1 ...\n",
      " $ Walc      : int  1 1 3 1 2 2 1 1 1 1 ...\n",
      " $ health    : int  3 3 3 5 5 5 3 1 1 5 ...\n",
      " $ absences  : int  6 4 10 2 4 10 0 6 0 0 ...\n",
      " $ G1        : int  5 5 7 15 6 15 12 6 16 14 ...\n",
      " $ G2        : int  6 5 8 14 10 15 12 5 18 15 ...\n",
      " $ G3        : int  6 6 10 15 10 15 11 6 19 15 ...\n"
     ]
    }
   ],
   "source": [
    "d1=read.table(\"C:/Users/pinar/Desktop/student/student-mat.csv\",sep=\";\",header=TRUE)\n",
    "head(d1)\n",
    "str(d1)\n",
    "\n",
    "set.seed(1234)"
   ]
  },
  {
   "cell_type": "code",
   "execution_count": 10,
   "id": "ed87e02b",
   "metadata": {},
   "outputs": [
    {
     "data": {
      "text/html": [
       "<table>\n",
       "<thead><tr><th></th><th scope=col>school</th><th scope=col>sex</th><th scope=col>age</th><th scope=col>address</th><th scope=col>famsize</th><th scope=col>Pstatus</th><th scope=col>Medu</th><th scope=col>Fedu</th><th scope=col>Mjob</th><th scope=col>Fjob</th><th scope=col>...</th><th scope=col>famrel</th><th scope=col>freetime</th><th scope=col>goout</th><th scope=col>Dalc</th><th scope=col>Walc</th><th scope=col>health</th><th scope=col>absences</th><th scope=col>G1</th><th scope=col>G2</th><th scope=col>G3</th></tr></thead>\n",
       "<tbody>\n",
       "\t<tr><th scope=row>1</th><td>GP      </td><td>F       </td><td>18      </td><td>U       </td><td>GT3     </td><td>A       </td><td>4       </td><td>4       </td><td>at_home </td><td>teacher </td><td>...     </td><td>4       </td><td>3       </td><td>4       </td><td>1       </td><td>1       </td><td>3       </td><td> 6      </td><td> 5      </td><td> 6      </td><td> 6      </td></tr>\n",
       "\t<tr><th scope=row>2</th><td>GP      </td><td>F       </td><td>17      </td><td>U       </td><td>GT3     </td><td>T       </td><td>1       </td><td>1       </td><td>at_home </td><td>other   </td><td>...     </td><td>5       </td><td>3       </td><td>3       </td><td>1       </td><td>1       </td><td>3       </td><td> 4      </td><td> 5      </td><td> 5      </td><td> 6      </td></tr>\n",
       "\t<tr><th scope=row>3</th><td>GP      </td><td>F       </td><td>15      </td><td>U       </td><td>LE3     </td><td>T       </td><td>1       </td><td>1       </td><td>at_home </td><td>other   </td><td>...     </td><td>4       </td><td>3       </td><td>2       </td><td>2       </td><td>3       </td><td>3       </td><td>10      </td><td> 7      </td><td> 8      </td><td>10      </td></tr>\n",
       "\t<tr><th scope=row>5</th><td>GP      </td><td>F       </td><td>16      </td><td>U       </td><td>GT3     </td><td>T       </td><td>3       </td><td>3       </td><td>other   </td><td>other   </td><td>...     </td><td>4       </td><td>3       </td><td>2       </td><td>1       </td><td>2       </td><td>5       </td><td> 4      </td><td> 6      </td><td>10      </td><td>10      </td></tr>\n",
       "\t<tr><th scope=row>6</th><td>GP      </td><td>M       </td><td>16      </td><td>U       </td><td>LE3     </td><td>T       </td><td>4       </td><td>3       </td><td>services</td><td>other   </td><td>...     </td><td>5       </td><td>4       </td><td>2       </td><td>1       </td><td>2       </td><td>5       </td><td>10      </td><td>15      </td><td>15      </td><td>15      </td></tr>\n",
       "\t<tr><th scope=row>7</th><td>GP      </td><td>M       </td><td>16      </td><td>U       </td><td>LE3     </td><td>T       </td><td>2       </td><td>2       </td><td>other   </td><td>other   </td><td>...     </td><td>4       </td><td>4       </td><td>4       </td><td>1       </td><td>1       </td><td>3       </td><td> 0      </td><td>12      </td><td>12      </td><td>11      </td></tr>\n",
       "</tbody>\n",
       "</table>\n"
      ],
      "text/latex": [
       "\\begin{tabular}{r|lllllllllllllllllllllllllllllllll}\n",
       "  & school & sex & age & address & famsize & Pstatus & Medu & Fedu & Mjob & Fjob & ... & famrel & freetime & goout & Dalc & Walc & health & absences & G1 & G2 & G3\\\\\n",
       "\\hline\n",
       "\t1 & GP         & F          & 18         & U          & GT3        & A          & 4          & 4          & at\\_home  & teacher    & ...        & 4          & 3          & 4          & 1          & 1          & 3          &  6         &  5         &  6         &  6        \\\\\n",
       "\t2 & GP         & F          & 17         & U          & GT3        & T          & 1          & 1          & at\\_home  & other      & ...        & 5          & 3          & 3          & 1          & 1          & 3          &  4         &  5         &  5         &  6        \\\\\n",
       "\t3 & GP         & F          & 15         & U          & LE3        & T          & 1          & 1          & at\\_home  & other      & ...        & 4          & 3          & 2          & 2          & 3          & 3          & 10         &  7         &  8         & 10        \\\\\n",
       "\t5 & GP       & F        & 16       & U        & GT3      & T        & 3        & 3        & other    & other    & ...      & 4        & 3        & 2        & 1        & 2        & 5        &  4       &  6       & 10       & 10      \\\\\n",
       "\t6 & GP       & M        & 16       & U        & LE3      & T        & 4        & 3        & services & other    & ...      & 5        & 4        & 2        & 1        & 2        & 5        & 10       & 15       & 15       & 15      \\\\\n",
       "\t7 & GP       & M        & 16       & U        & LE3      & T        & 2        & 2        & other    & other    & ...      & 4        & 4        & 4        & 1        & 1        & 3        &  0       & 12       & 12       & 11      \\\\\n",
       "\\end{tabular}\n"
      ],
      "text/markdown": [
       "\n",
       "| <!--/--> | school | sex | age | address | famsize | Pstatus | Medu | Fedu | Mjob | Fjob | ... | famrel | freetime | goout | Dalc | Walc | health | absences | G1 | G2 | G3 |\n",
       "|---|---|---|---|---|---|---|---|---|---|---|---|---|---|---|---|---|---|---|---|---|---|\n",
       "| 1 | GP       | F        | 18       | U        | GT3      | A        | 4        | 4        | at_home  | teacher  | ...      | 4        | 3        | 4        | 1        | 1        | 3        |  6       |  5       |  6       |  6       |\n",
       "| 2 | GP       | F        | 17       | U        | GT3      | T        | 1        | 1        | at_home  | other    | ...      | 5        | 3        | 3        | 1        | 1        | 3        |  4       |  5       |  5       |  6       |\n",
       "| 3 | GP       | F        | 15       | U        | LE3      | T        | 1        | 1        | at_home  | other    | ...      | 4        | 3        | 2        | 2        | 3        | 3        | 10       |  7       |  8       | 10       |\n",
       "| 5 | GP       | F        | 16       | U        | GT3      | T        | 3        | 3        | other    | other    | ...      | 4        | 3        | 2        | 1        | 2        | 5        |  4       |  6       | 10       | 10       |\n",
       "| 6 | GP       | M        | 16       | U        | LE3      | T        | 4        | 3        | services | other    | ...      | 5        | 4        | 2        | 1        | 2        | 5        | 10       | 15       | 15       | 15       |\n",
       "| 7 | GP       | M        | 16       | U        | LE3      | T        | 2        | 2        | other    | other    | ...      | 4        | 4        | 4        | 1        | 1        | 3        |  0       | 12       | 12       | 11       |\n",
       "\n"
      ],
      "text/plain": [
       "  school sex age address famsize Pstatus Medu Fedu Mjob     Fjob    ... famrel\n",
       "1 GP     F   18  U       GT3     A       4    4    at_home  teacher ... 4     \n",
       "2 GP     F   17  U       GT3     T       1    1    at_home  other   ... 5     \n",
       "3 GP     F   15  U       LE3     T       1    1    at_home  other   ... 4     \n",
       "5 GP     F   16  U       GT3     T       3    3    other    other   ... 4     \n",
       "6 GP     M   16  U       LE3     T       4    3    services other   ... 5     \n",
       "7 GP     M   16  U       LE3     T       2    2    other    other   ... 4     \n",
       "  freetime goout Dalc Walc health absences G1 G2 G3\n",
       "1 3        4     1    1    3       6        5  6  6\n",
       "2 3        3     1    1    3       4        5  5  6\n",
       "3 3        2     2    3    3      10        7  8 10\n",
       "5 3        2     1    2    5       4        6 10 10\n",
       "6 4        2     1    2    5      10       15 15 15\n",
       "7 4        4     1    1    3       0       12 12 11"
      ]
     },
     "metadata": {},
     "output_type": "display_data"
    },
    {
     "data": {
      "text/html": [
       "<table>\n",
       "<thead><tr><th></th><th scope=col>school</th><th scope=col>sex</th><th scope=col>age</th><th scope=col>address</th><th scope=col>famsize</th><th scope=col>Pstatus</th><th scope=col>Medu</th><th scope=col>Fedu</th><th scope=col>Mjob</th><th scope=col>Fjob</th><th scope=col>...</th><th scope=col>famrel</th><th scope=col>freetime</th><th scope=col>goout</th><th scope=col>Dalc</th><th scope=col>Walc</th><th scope=col>health</th><th scope=col>absences</th><th scope=col>G1</th><th scope=col>G2</th><th scope=col>G3</th></tr></thead>\n",
       "<tbody>\n",
       "\t<tr><th scope=row>4</th><td>GP      </td><td>F       </td><td>15      </td><td>U       </td><td>GT3     </td><td>T       </td><td>4       </td><td>2       </td><td>health  </td><td>services</td><td>...     </td><td>3       </td><td>2       </td><td>2       </td><td>1       </td><td>1       </td><td>5       </td><td>2       </td><td>15      </td><td>14      </td><td>15      </td></tr>\n",
       "\t<tr><th scope=row>10</th><td>GP      </td><td>M       </td><td>15      </td><td>U       </td><td>GT3     </td><td>T       </td><td>3       </td><td>4       </td><td>other   </td><td>other   </td><td>...     </td><td>5       </td><td>5       </td><td>1       </td><td>1       </td><td>1       </td><td>5       </td><td>0       </td><td>14      </td><td>15      </td><td>15      </td></tr>\n",
       "\t<tr><th scope=row>14</th><td>GP      </td><td>M       </td><td>15      </td><td>U       </td><td>GT3     </td><td>T       </td><td>4       </td><td>3       </td><td>teacher </td><td>other   </td><td>...     </td><td>5       </td><td>4       </td><td>3       </td><td>1       </td><td>2       </td><td>3       </td><td>2       </td><td>10      </td><td>10      </td><td>11      </td></tr>\n",
       "\t<tr><th scope=row>17</th><td>GP      </td><td>F       </td><td>16      </td><td>U       </td><td>GT3     </td><td>T       </td><td>4       </td><td>4       </td><td>services</td><td>services</td><td>...     </td><td>3       </td><td>2       </td><td>3       </td><td>1       </td><td>2       </td><td>2       </td><td>6       </td><td>13      </td><td>14      </td><td>14      </td></tr>\n",
       "\t<tr><th scope=row>18</th><td>GP      </td><td>F       </td><td>16      </td><td>U       </td><td>GT3     </td><td>T       </td><td>3       </td><td>3       </td><td>other   </td><td>other   </td><td>...     </td><td>5       </td><td>3       </td><td>2       </td><td>1       </td><td>1       </td><td>4       </td><td>4       </td><td> 8      </td><td>10      </td><td>10      </td></tr>\n",
       "\t<tr><th scope=row>21</th><td>GP      </td><td>M       </td><td>15      </td><td>U       </td><td>GT3     </td><td>T       </td><td>4       </td><td>3       </td><td>teacher </td><td>other   </td><td>...     </td><td>4       </td><td>4       </td><td>1       </td><td>1       </td><td>1       </td><td>1       </td><td>0       </td><td>13      </td><td>14      </td><td>15      </td></tr>\n",
       "</tbody>\n",
       "</table>\n"
      ],
      "text/latex": [
       "\\begin{tabular}{r|lllllllllllllllllllllllllllllllll}\n",
       "  & school & sex & age & address & famsize & Pstatus & Medu & Fedu & Mjob & Fjob & ... & famrel & freetime & goout & Dalc & Walc & health & absences & G1 & G2 & G3\\\\\n",
       "\\hline\n",
       "\t4 & GP       & F        & 15       & U        & GT3      & T        & 4        & 2        & health   & services & ...      & 3        & 2        & 2        & 1        & 1        & 5        & 2        & 15       & 14       & 15      \\\\\n",
       "\t10 & GP       & M        & 15       & U        & GT3      & T        & 3        & 4        & other    & other    & ...      & 5        & 5        & 1        & 1        & 1        & 5        & 0        & 14       & 15       & 15      \\\\\n",
       "\t14 & GP       & M        & 15       & U        & GT3      & T        & 4        & 3        & teacher  & other    & ...      & 5        & 4        & 3        & 1        & 2        & 3        & 2        & 10       & 10       & 11      \\\\\n",
       "\t17 & GP       & F        & 16       & U        & GT3      & T        & 4        & 4        & services & services & ...      & 3        & 2        & 3        & 1        & 2        & 2        & 6        & 13       & 14       & 14      \\\\\n",
       "\t18 & GP       & F        & 16       & U        & GT3      & T        & 3        & 3        & other    & other    & ...      & 5        & 3        & 2        & 1        & 1        & 4        & 4        &  8       & 10       & 10      \\\\\n",
       "\t21 & GP       & M        & 15       & U        & GT3      & T        & 4        & 3        & teacher  & other    & ...      & 4        & 4        & 1        & 1        & 1        & 1        & 0        & 13       & 14       & 15      \\\\\n",
       "\\end{tabular}\n"
      ],
      "text/markdown": [
       "\n",
       "| <!--/--> | school | sex | age | address | famsize | Pstatus | Medu | Fedu | Mjob | Fjob | ... | famrel | freetime | goout | Dalc | Walc | health | absences | G1 | G2 | G3 |\n",
       "|---|---|---|---|---|---|---|---|---|---|---|---|---|---|---|---|---|---|---|---|---|---|\n",
       "| 4 | GP       | F        | 15       | U        | GT3      | T        | 4        | 2        | health   | services | ...      | 3        | 2        | 2        | 1        | 1        | 5        | 2        | 15       | 14       | 15       |\n",
       "| 10 | GP       | M        | 15       | U        | GT3      | T        | 3        | 4        | other    | other    | ...      | 5        | 5        | 1        | 1        | 1        | 5        | 0        | 14       | 15       | 15       |\n",
       "| 14 | GP       | M        | 15       | U        | GT3      | T        | 4        | 3        | teacher  | other    | ...      | 5        | 4        | 3        | 1        | 2        | 3        | 2        | 10       | 10       | 11       |\n",
       "| 17 | GP       | F        | 16       | U        | GT3      | T        | 4        | 4        | services | services | ...      | 3        | 2        | 3        | 1        | 2        | 2        | 6        | 13       | 14       | 14       |\n",
       "| 18 | GP       | F        | 16       | U        | GT3      | T        | 3        | 3        | other    | other    | ...      | 5        | 3        | 2        | 1        | 1        | 4        | 4        |  8       | 10       | 10       |\n",
       "| 21 | GP       | M        | 15       | U        | GT3      | T        | 4        | 3        | teacher  | other    | ...      | 4        | 4        | 1        | 1        | 1        | 1        | 0        | 13       | 14       | 15       |\n",
       "\n"
      ],
      "text/plain": [
       "   school sex age address famsize Pstatus Medu Fedu Mjob     Fjob     ...\n",
       "4  GP     F   15  U       GT3     T       4    2    health   services ...\n",
       "10 GP     M   15  U       GT3     T       3    4    other    other    ...\n",
       "14 GP     M   15  U       GT3     T       4    3    teacher  other    ...\n",
       "17 GP     F   16  U       GT3     T       4    4    services services ...\n",
       "18 GP     F   16  U       GT3     T       3    3    other    other    ...\n",
       "21 GP     M   15  U       GT3     T       4    3    teacher  other    ...\n",
       "   famrel freetime goout Dalc Walc health absences G1 G2 G3\n",
       "4  3      2        2     1    1    5      2        15 14 15\n",
       "10 5      5        1     1    1    5      0        14 15 15\n",
       "14 5      4        3     1    2    3      2        10 10 11\n",
       "17 3      2        3     1    2    2      6        13 14 14\n",
       "18 5      3        2     1    1    4      4         8 10 10\n",
       "21 4      4        1     1    1    1      0        13 14 15"
      ]
     },
     "metadata": {},
     "output_type": "display_data"
    }
   ],
   "source": [
    "# Test and train split\n",
    "\n",
    "split1 <- sample(c(rep(0, 0.7 * nrow(d1)), rep(1, 0.3 * nrow(d1))))\n",
    "\n",
    "traindata1 <- d1[split1 == 0, ]\n",
    "testdata1 <- d1[split1 == 1, ]\n",
    "\n",
    "head(traindata1)\n",
    "head(testdata1)"
   ]
  },
  {
   "cell_type": "code",
   "execution_count": 6,
   "id": "e5a37cf5",
   "metadata": {},
   "outputs": [
    {
     "name": "stderr",
     "output_type": "stream",
     "text": [
      "Warning message:\n",
      "\"extra=106 but the response has 18 levels (only the 2nd level is displayed)\""
     ]
    },
    {
     "data": {
      "image/png": "[encoded data removed]",
      "text/plain": [
       "plot without title"
      ]
     },
     "metadata": {},
     "output_type": "display_data"
    }
   ],
   "source": [
    "# Decision tree algorithm\n",
    "\n",
    "  dt1 <- rpart(G3 ~ .,data= traindata1, method= \"class\")\n",
    "  rpart.plot(dt1, type = 2, extra=106, box.palette = \"Greens\")"
   ]
  },
  {
   "cell_type": "code",
   "execution_count": 7,
   "id": "be04785b",
   "metadata": {},
   "outputs": [
    {
     "data": {
      "text/plain": [
       "    predictdata_dt1\n",
       "      0  4  5  6  7  8  9 10 11 12 13 14 15 16 17 18 19 20\n",
       "  0  13  0  0  0  0  0  0  0  0  0  0  0  0  0  0  0  0  0\n",
       "  5   0  0  1  0  0  0  0  0  0  0  0  0  0  0  0  0  0  0\n",
       "  6   0  0  6  0  0  1  0  0  0  0  0  0  0  0  0  0  0  0\n",
       "  7   1  0  0  0  0  0  0  1  0  0  0  0  0  0  0  0  0  0\n",
       "  8   2  0  0  0  0  2  1  2  0  0  0  0  0  0  0  0  0  0\n",
       "  9   2  0  0  0  0  3  1  1  1  0  0  0  0  0  0  0  0  0\n",
       "  10  0  0  0  0  0  3  0  9  1  1  0  0  0  0  0  0  0  0\n",
       "  11  0  0  0  0  0  0  0  6  4  0  0  0  0  0  0  0  0  0\n",
       "  12  0  0  0  0  0  0  0  1  6  3  3  0  0  0  0  0  0  0\n",
       "  13  0  0  0  0  0  0  0  0  2  2  9  1  0  0  0  0  0  0\n",
       "  14  0  0  0  0  0  0  0  0  0  1  5  2  1  0  0  0  0  0\n",
       "  15  0  0  0  0  0  0  0  0  0  0  0  1  6  0  0  0  0  0\n",
       "  16  0  0  0  0  0  0  0  0  0  0  0  0  7  0  0  0  0  0\n",
       "  17  0  0  0  0  0  0  0  0  0  0  0  0  0  0  0  2  0  0\n",
       "  18  0  0  0  0  0  0  0  0  0  0  0  0  0  0  0  4  0  0\n",
       "  19  0  0  0  0  0  0  0  0  0  0  0  0  0  0  0  1  0  0"
      ]
     },
     "metadata": {},
     "output_type": "display_data"
    },
    {
     "name": "stdout",
     "output_type": "stream",
     "text": [
      "[1] \"Accuracy for decision tree algorithm 0.420168067226891\"\n"
     ]
    }
   ],
   "source": [
    "  # Prediction  \n",
    "  predictdata_dt1 <- predict(dt1,testdata1, type=\"class\")\n",
    "  \n",
    "  table_mat1_1 <- table(testdata1$G3, predictdata_dt1)\n",
    "  table_mat1_1\n",
    "\n",
    "  # Accuracy of DT\n",
    "  accuracy_Test1_1 <- sum(diag(table_mat1_1)) / sum(table_mat1_1)\n",
    "  print(paste('Accuracy for decision tree algorithm', accuracy_Test1_1))"
   ]
  },
  {
   "cell_type": "code",
   "execution_count": 3,
   "id": "c8f85db1",
   "metadata": {},
   "outputs": [
    {
     "ename": "ERROR",
     "evalue": "Error in randomForest(formula = G3 ~ ., data = traindata1, ntree = 500, : \"randomForest\" fonksiyonu bulunamadı\n",
     "output_type": "error",
     "traceback": [
      "Error in randomForest(formula = G3 ~ ., data = traindata1, ntree = 500, : \"randomForest\" fonksiyonu bulunamadı\nTraceback:\n"
     ]
    }
   ],
   "source": [
    "# Random forest algorithm\n",
    "\n",
    "  rf1 <- randomForest(formula= G3 ~ ., data = traindata1, ntree= 500, nodesize =5)\n",
    "  rf1\n",
    "  \n",
    "  # Number of trees with lowest MSE\n",
    "  which.min(rf1$mse)\n",
    "  \n",
    "  # Produce variable importance plot\n",
    "  varImpPlot(rf1) \n",
    "\n"
   ]
  },
  {
   "cell_type": "markdown",
   "id": "5be5cf2d",
   "metadata": {},
   "source": [
    "Jupyter couldn't run randomForest function, so the results are copied from RStudio."
   ]
  },
  {
   "cell_type": "raw",
   "id": "1b8bce80",
   "metadata": {},
   "source": [
    "Call:\n",
    " randomForest(formula = G3 ~ ., data = traindata1, ntree = 500, nodesize = 5) \n",
    "               Type of random forest: regression\n",
    "                     Number of trees: 500\n",
    "No. of variables tried at each split: 10\n",
    "\n",
    "          Mean of squared residuals: 3.311059\n",
    "                    % Var explained: 83.71\n",
    "                    \n",
    "Number of trees with lowest MSE\n",
    "   which.min(rf1$mse)\n",
    "[1] 454\n",
    " \n",
    "Produce variable importance plot\n",
    "   varImpPlot(rf1)"
   ]
  },
  {
   "attachments": {
    "image.png": {
     "image/png": "[encoded data removed]"
    }
   },
   "cell_type": "markdown",
   "id": "645df3d5",
   "metadata": {},
   "source": [
    "![image.png](attachment:image.png)"
   ]
  },
  {
   "cell_type": "code",
   "execution_count": 5,
   "id": "c0d55aa1",
   "metadata": {},
   "outputs": [
    {
     "ename": "ERROR",
     "evalue": "Error in tuneRF(traindata1[, 1:32], traindata1$G3, ntreeTry = 500, mtryStart = 4, : \"tuneRF\" fonksiyonu bulunamadı\n",
     "output_type": "error",
     "traceback": [
      "Error in tuneRF(traindata1[, 1:32], traindata1$G3, ntreeTry = 500, mtryStart = 4, : \"tuneRF\" fonksiyonu bulunamadı\nTraceback:\n"
     ]
    }
   ],
   "source": [
    "  # Tuning\n",
    "  model_tuned1 <- tuneRF(\n",
    "    traindata1[,1:32], # define predictor variables\n",
    "    traindata1$G3, # define response variable\n",
    "    ntreeTry=500,\n",
    "    mtryStart=4, \n",
    "    stepFactor=1.5,\n",
    "    improve=0.01,\n",
    "    trace=FALSE) #don't show real-time progress\n",
    "  \n",
    "  best.m1 <- model_tuned1[model_tuned1[, 2] == min(model_tuned1[, 2]), 1]\n",
    "  print(model_tuned1)\n",
    "  print(best.m1)"
   ]
  },
  {
   "cell_type": "raw",
   "id": "88000ff9",
   "metadata": {},
   "source": [
    "Tuning\n",
    "   model_tuned1 <- tuneRF(\n",
    "+     traindata1[,1:32], # define predictor variables\n",
    "+     traindata1$G3, # define response variable\n",
    "+     ntreeTry=500,\n",
    "+     mtryStart=4, \n",
    "+     stepFactor=1.5,\n",
    "+     improve=0.01,\n",
    "+     trace=FALSE) #don't show real-time progress\n",
    "-0.218541 0.01 \n",
    "0.1995449 0.01 \n",
    "0.1734967 0.01 \n",
    "0.1229287 0.01 \n",
    "0.08377424 0.01 \n",
    "0.03124663 0.01 \n",
    "-0.007597923 0.01 \n",
    "   \n",
    "best.m1 <- model_tuned1[model_tuned1[, 2] == min(model_tuned1[, 2]), 1]\n",
    "print(model_tuned1)\n",
    "   mtry OOBError\n",
    "3     3 6.538085\n",
    "4     4 5.365503\n",
    "6     6 4.294844\n",
    "9     9 3.549703\n",
    "13   13 3.113342\n",
    "19   19 2.852524\n",
    "28   28 2.763393\n",
    "32   32 2.784389\n",
    "\n",
    "print(best.m1)\n",
    "[1] 28"
   ]
  },
  {
   "attachments": {
    "image.png": {
     "image/png": "[encoded data removed]"
    }
   },
   "cell_type": "markdown",
   "id": "7ec5ad4a",
   "metadata": {},
   "source": [
    "![image.png](attachment:image.png)"
   ]
  },
  {
   "cell_type": "code",
   "execution_count": 7,
   "id": "0eabc6ac",
   "metadata": {},
   "outputs": [
    {
     "ename": "ERROR",
     "evalue": "Error in randomForest(formula = G3 ~ ., data = traindata1, ntree = 500, : \"randomForest\" fonksiyonu bulunamadı\n",
     "output_type": "error",
     "traceback": [
      "Error in randomForest(formula = G3 ~ ., data = traindata1, ntree = 500, : \"randomForest\" fonksiyonu bulunamadı\nTraceback:\n"
     ]
    }
   ],
   "source": [
    "  # Set best.m\n",
    "  set.seed(123)\n",
    "  rf1 <- randomForest(formula= G3 ~ ., data = traindata1, ntree= 500, mtry=best.m1, nodesize= 5, type=\"class\")\n",
    "  rf1\n",
    "  plot(rf1)"
   ]
  },
  {
   "cell_type": "raw",
   "id": "12b8125d",
   "metadata": {},
   "source": [
    "set best.m\n",
    " set.seed(123)\n",
    "rf1 <- randomForest(formula= G3 ~ ., data = traindata1, ntree= 500, mtry=best.m1, nodesize= 5, type=\"class\")\n",
    "rf1\n",
    "\n",
    "Call:\n",
    " randomForest(formula = G3 ~ ., data = traindata1, ntree = 500,      mtry = best.m1, nodesize = 5, type = \"class\") \n",
    "               Type of random forest: regression\n",
    "                     Number of trees: 500\n",
    "No. of variables tried at each split: 28\n",
    "\n",
    "          Mean of squared residuals: 2.735341\n",
    "                    % Var explained: 86.54"
   ]
  },
  {
   "attachments": {
    "image.png": {
     "image/png": "[encoded data removed]"
    }
   },
   "cell_type": "markdown",
   "id": "7e5a77a7",
   "metadata": {},
   "source": [
    "![image.png](attachment:image.png)"
   ]
  },
  {
   "cell_type": "code",
   "execution_count": 6,
   "id": "4185369d",
   "metadata": {},
   "outputs": [
    {
     "ename": "ERROR",
     "evalue": "Error in predict(rf1, testdata1): 'rf1' nesnesi bulunamadı\n",
     "output_type": "error",
     "traceback": [
      "Error in predict(rf1, testdata1): 'rf1' nesnesi bulunamadı\nTraceback:\n",
      "1. predict(rf1, testdata1)"
     ]
    }
   ],
   "source": [
    "  # Prediction\n",
    "  predictdata_rf1 <-predict(rf1, testdata1)\n",
    "  table(predictdata_rf1, testdata1$G3)\n",
    "  \n",
    "  # Accuracy od RF\n",
    "  table_mat2_1 <- table(testdata1$G3, predictdata_rf1)\n",
    "  \n",
    "  accuracy_Test2_1 <- sum(diag(table_mat2_1)) / sum(table_mat2_1)\n",
    "  print(paste('Accuracy for random forest algorithm', accuracy_Test2_1))"
   ]
  },
  {
   "cell_type": "raw",
   "id": "819ab706",
   "metadata": {},
   "source": [
    "Prediction\n",
    "predictdata_rf1 <-predict(rf1, testdata1)\n",
    "table(predictdata_rf1, testdata1$G3)\n",
    "                   \n",
    "predictdata_rf1     0 5 6 7 8 9 10 11 12 13 14 15 16 17 18 19\n",
    "  0.3274            1 0 0 0 0 0  0  0  0  0  0  0  0  0  0  0\n",
    "  0.367133333333333 1 0 0 0 0 0  0  0  0  0  0  0  0  0  0  0\n",
    "  0.500766666666667 1 0 0 0 0 0  0  0  0  0  0  0  0  0  0  0\n",
    "  1.10413333333333  1 0 0 0 0 0  0  0  0  0  0  0  0  0  0  0\n",
    "  1.17066666666667  1 0 0 0 0 0  0  0  0  0  0  0  0  0  0  0\n",
    "  1.2466            1 0 0 0 0 0  0  0  0  0  0  0  0  0  0  0\n",
    "  1.35946666666667  1 0 0 0 0 0  0  0  0  0  0  0  0  0  0  0\n",
    "  1.9547            1 0 0 0 0 0  0  0  0  0  0  0  0  0  0  0\n",
    "  2.2403            1 0 0 0 0 0  0  0  0  0  0  0  0  0  0  0\n",
    "  3.20946666666667  0 0 0 0 0 1  0  0  0  0  0  0  0  0  0  0\n",
    "  3.35326666666667  1 0 0 0 0 0  0  0  0  0  0  0  0  0  0  0\n",
    "  3.73163333333333  0 0 0 0 1 0  0  0  0  0  0  0  0  0  0  0\n",
    "  3.99456666666667  1 0 0 0 0 0  0  0  0  0  0  0  0  0  0  0\n",
    "  4.1434            1 0 0 0 0 0  0  0  0  0  0  0  0  0  0  0\n",
    "  4.2392            1 0 0 0 0 0  0  0  0  0  0  0  0  0  0  0\n",
    "  4.30756666666667  0 0 0 1 0 0  0  0  0  0  0  0  0  0  0  0\n",
    "  5.11076666666667  0 0 0 0 1 0  0  0  0  0  0  0  0  0  0  0\n",
    "  5.31033333333333  0 0 1 0 0 0  0  0  0  0  0  0  0  0  0  0\n",
    "  5.50576666666667  0 0 1 0 0 0  0  0  0  0  0  0  0  0  0  0\n",
    "  5.9004            0 0 0 0 0 0  1  0  0  0  0  0  0  0  0  0\n",
    "  5.9498            0 0 1 0 0 0  0  0  0  0  0  0  0  0  0  0\n",
    "  6.02216666666667  0 0 1 0 0 0  0  0  0  0  0  0  0  0  0  0\n",
    "  6.1592            0 1 0 0 0 0  0  0  0  0  0  0  0  0  0  0\n",
    "  6.2313            0 0 1 0 0 0  0  0  0  0  0  0  0  0  0  0\n",
    "  6.3717            0 0 0 0 0 1  0  0  0  0  0  0  0  0  0  0\n",
    "  6.42526666666667  0 0 1 0 0 0  0  0  0  0  0  0  0  0  0  0\n",
    "  7.20086666666667  0 0 0 0 0 1  0  0  0  0  0  0  0  0  0  0\n",
    "  7.339             0 0 1 0 0 0  0  0  0  0  0  0  0  0  0  0\n",
    "  7.42183333333334  0 0 0 0 1 0  0  0  0  0  0  0  0  0  0  0\n",
    "  7.84696666666667  0 0 0 0 1 0  0  0  0  0  0  0  0  0  0  0\n",
    "  8.00136666666667  0 0 0 0 1 0  0  0  0  0  0  0  0  0  0  0\n",
    "  8.05973333333333  0 0 0 0 0 0  0  0  1  0  0  0  0  0  0  0\n",
    "  8.2311            0 0 0 0 0 0  0  1  0  0  0  0  0  0  0  0\n",
    "  8.41876666666667  0 0 0 0 0 1  0  0  0  0  0  0  0  0  0  0\n",
    "  8.6531            0 0 0 0 1 0  0  0  0  0  0  0  0  0  0  0\n",
    "  8.7289            0 0 0 0 0 0  1  0  0  0  0  0  0  0  0  0\n",
    "  8.79703333333334  0 0 0 0 0 0  1  0  0  0  0  0  0  0  0  0\n",
    "  8.90016666666667  0 0 0 0 0 0  1  0  0  0  0  0  0  0  0  0\n",
    "  8.9105            0 0 0 0 1 0  0  0  0  0  0  0  0  0  0  0\n",
    "  8.9689            0 0 0 0 0 1  0  0  0  0  0  0  0  0  0  0\n",
    "  9.01496666666667  0 0 0 0 0 1  0  0  0  0  0  0  0  0  0  0\n",
    "  9.06636666666667  0 0 0 0 0 1  0  0  0  0  0  0  0  0  0  0\n",
    "  9.23423333333334  0 0 0 0 0 0  0  1  0  0  0  0  0  0  0  0\n",
    "  9.36193333333333  0 0 0 0 0 0  1  0  0  0  0  0  0  0  0  0\n",
    "  9.374             0 0 0 1 0 0  0  0  0  0  0  0  0  0  0  0\n",
    "  9.54466666666667  0 0 0 0 0 0  1  0  0  0  0  0  0  0  0  0\n",
    "  9.54866666666666  0 0 0 0 0 0  1  0  0  0  0  0  0  0  0  0\n",
    "  9.64413333333333  0 0 0 0 0 1  0  0  0  0  0  0  0  0  0  0\n",
    "  9.75233333333333  0 0 0 0 0 0  1  0  0  0  0  0  0  0  0  0\n",
    "  9.80836666666667  0 0 0 0 0 0  1  0  0  0  0  0  0  0  0  0\n",
    "  9.99153333333333  0 0 0 0 0 0  1  0  0  0  0  0  0  0  0  0\n",
    "  10.0463333333333  0 0 0 0 0 0  1  0  0  0  0  0  0  0  0  0\n",
    "  10.1341333333333  0 0 0 0 0 0  1  0  0  0  0  0  0  0  0  0\n",
    "  10.2329333333333  0 0 0 0 0 0  1  0  0  0  0  0  0  0  0  0\n",
    "  10.5716333333333  0 0 0 0 0 0  0  1  0  0  0  0  0  0  0  0\n",
    "  10.7189333333333  0 0 0 0 0 0  0  1  0  0  0  0  0  0  0  0\n",
    "  10.7254           0 0 0 0 0 0  0  0  1  0  0  0  0  0  0  0\n",
    "  10.8078333333333  0 0 0 0 0 0  0  1  0  0  0  0  0  0  0  0\n",
    "  10.8862           0 0 0 0 0 0  0  1  0  0  0  0  0  0  0  0\n",
    "  11.0019666666667  0 0 0 0 0 0  0  1  0  0  0  0  0  0  0  0\n",
    "  11.0119666666667  0 0 0 0 0 0  0  0  1  0  0  0  0  0  0  0\n",
    "  11.1133666666667  0 0 0 0 0 0  0  0  0  1  0  0  0  0  0  0\n",
    " [ reached getOption(\"max.print\") -- omitted 57 rows ]\n",
    "  \n",
    "Accuracy\n",
    "table_mat2_1 <- table(testdata1$G3, predictdata_rf1)\n",
    "\n",
    "accuracy_Test2_1 <- sum(diag(table_mat2_1)) / sum(table_mat2_1)\n",
    " print(paste('Accuracy for random forest algorithm', accuracy_Test2_1))\n",
    "[1] \"Accuracy for random forest algorithm 0.00840336134453781\""
   ]
  },
  {
   "cell_type": "markdown",
   "id": "f4b439ea",
   "metadata": {},
   "source": [
    "### Conclusion for Dataset 1\n",
    "\n",
    "DT accuracy is 42% whereas accuracy in RF is less than 0.8%. DT performed better for this data."
   ]
  },
  {
   "cell_type": "markdown",
   "id": "927519da",
   "metadata": {},
   "source": [
    "## Dataset 2 - Absenteeism at Work\n",
    "The second dataset absenteeism was created with records of absenteeism at work from July 2007 to July 2010 at a courier company in Brazil.\n",
    "\n",
    "The target output is the absenteeism time in hours. Total number of features are 20 and there are 740 workers."
   ]
  },
  {
   "cell_type": "code",
   "execution_count": 3,
   "id": "c18af32d",
   "metadata": {},
   "outputs": [
    {
     "data": {
      "text/html": [
       "<table>\n",
       "<thead><tr><th scope=col>ID</th><th scope=col>Reason_for_absence</th><th scope=col>Month_of_absence</th><th scope=col>Day_of_the_week</th><th scope=col>Seasons</th><th scope=col>Transportation_expense</th><th scope=col>Distance_from_Residence_to_Work</th><th scope=col>Service_time</th><th scope=col>Age</th><th scope=col>Work_load_Average_div_day</th><th scope=col>...</th><th scope=col>Disciplinary_failure</th><th scope=col>Education</th><th scope=col>Son</th><th scope=col>Social_drinker</th><th scope=col>Social_smoker</th><th scope=col>Pet</th><th scope=col>Weight</th><th scope=col>Height</th><th scope=col>Body_mass_index</th><th scope=col>Absenteeism</th></tr></thead>\n",
       "<tbody>\n",
       "\t<tr><td>11     </td><td>26     </td><td>7      </td><td>3      </td><td>1      </td><td>289    </td><td>36     </td><td>13     </td><td>33     </td><td>239.554</td><td>...    </td><td>0      </td><td>1      </td><td>2      </td><td>1      </td><td>0      </td><td>1      </td><td>90     </td><td>172    </td><td>30     </td><td>4      </td></tr>\n",
       "\t<tr><td>36     </td><td> 0     </td><td>7      </td><td>3      </td><td>1      </td><td>118    </td><td>13     </td><td>18     </td><td>50     </td><td>239.554</td><td>...    </td><td>1      </td><td>1      </td><td>1      </td><td>1      </td><td>0      </td><td>0      </td><td>98     </td><td>178    </td><td>31     </td><td>0      </td></tr>\n",
       "\t<tr><td> 3     </td><td>23     </td><td>7      </td><td>4      </td><td>1      </td><td>179    </td><td>51     </td><td>18     </td><td>38     </td><td>239.554</td><td>...    </td><td>0      </td><td>1      </td><td>0      </td><td>1      </td><td>0      </td><td>0      </td><td>89     </td><td>170    </td><td>31     </td><td>2      </td></tr>\n",
       "\t<tr><td> 7     </td><td> 7     </td><td>7      </td><td>5      </td><td>1      </td><td>279    </td><td> 5     </td><td>14     </td><td>39     </td><td>239.554</td><td>...    </td><td>0      </td><td>1      </td><td>2      </td><td>1      </td><td>1      </td><td>0      </td><td>68     </td><td>168    </td><td>24     </td><td>4      </td></tr>\n",
       "\t<tr><td>11     </td><td>23     </td><td>7      </td><td>5      </td><td>1      </td><td>289    </td><td>36     </td><td>13     </td><td>33     </td><td>239.554</td><td>...    </td><td>0      </td><td>1      </td><td>2      </td><td>1      </td><td>0      </td><td>1      </td><td>90     </td><td>172    </td><td>30     </td><td>2      </td></tr>\n",
       "\t<tr><td> 3     </td><td>23     </td><td>7      </td><td>6      </td><td>1      </td><td>179    </td><td>51     </td><td>18     </td><td>38     </td><td>239.554</td><td>...    </td><td>0      </td><td>1      </td><td>0      </td><td>1      </td><td>0      </td><td>0      </td><td>89     </td><td>170    </td><td>31     </td><td>2      </td></tr>\n",
       "</tbody>\n",
       "</table>\n"
      ],
      "text/latex": [
       "\\begin{tabular}{r|lllllllllllllllllllll}\n",
       " ID & Reason\\_for\\_absence & Month\\_of\\_absence & Day\\_of\\_the\\_week & Seasons & Transportation\\_expense & Distance\\_from\\_Residence\\_to\\_Work & Service\\_time & Age & Work\\_load\\_Average\\_div\\_day & ... & Disciplinary\\_failure & Education & Son & Social\\_drinker & Social\\_smoker & Pet & Weight & Height & Body\\_mass\\_index & Absenteeism\\\\\n",
       "\\hline\n",
       "\t 11      & 26      & 7       & 3       & 1       & 289     & 36      & 13      & 33      & 239.554 & ...     & 0       & 1       & 2       & 1       & 0       & 1       & 90      & 172     & 30      & 4      \\\\\n",
       "\t 36      &  0      & 7       & 3       & 1       & 118     & 13      & 18      & 50      & 239.554 & ...     & 1       & 1       & 1       & 1       & 0       & 0       & 98      & 178     & 31      & 0      \\\\\n",
       "\t  3      & 23      & 7       & 4       & 1       & 179     & 51      & 18      & 38      & 239.554 & ...     & 0       & 1       & 0       & 1       & 0       & 0       & 89      & 170     & 31      & 2      \\\\\n",
       "\t  7      &  7      & 7       & 5       & 1       & 279     &  5      & 14      & 39      & 239.554 & ...     & 0       & 1       & 2       & 1       & 1       & 0       & 68      & 168     & 24      & 4      \\\\\n",
       "\t 11      & 23      & 7       & 5       & 1       & 289     & 36      & 13      & 33      & 239.554 & ...     & 0       & 1       & 2       & 1       & 0       & 1       & 90      & 172     & 30      & 2      \\\\\n",
       "\t  3      & 23      & 7       & 6       & 1       & 179     & 51      & 18      & 38      & 239.554 & ...     & 0       & 1       & 0       & 1       & 0       & 0       & 89      & 170     & 31      & 2      \\\\\n",
       "\\end{tabular}\n"
      ],
      "text/markdown": [
       "\n",
       "| ID | Reason_for_absence | Month_of_absence | Day_of_the_week | Seasons | Transportation_expense | Distance_from_Residence_to_Work | Service_time | Age | Work_load_Average_div_day | ... | Disciplinary_failure | Education | Son | Social_drinker | Social_smoker | Pet | Weight | Height | Body_mass_index | Absenteeism |\n",
       "|---|---|---|---|---|---|---|---|---|---|---|---|---|---|---|---|---|---|---|---|---|\n",
       "| 11      | 26      | 7       | 3       | 1       | 289     | 36      | 13      | 33      | 239.554 | ...     | 0       | 1       | 2       | 1       | 0       | 1       | 90      | 172     | 30      | 4       |\n",
       "| 36      |  0      | 7       | 3       | 1       | 118     | 13      | 18      | 50      | 239.554 | ...     | 1       | 1       | 1       | 1       | 0       | 0       | 98      | 178     | 31      | 0       |\n",
       "|  3      | 23      | 7       | 4       | 1       | 179     | 51      | 18      | 38      | 239.554 | ...     | 0       | 1       | 0       | 1       | 0       | 0       | 89      | 170     | 31      | 2       |\n",
       "|  7      |  7      | 7       | 5       | 1       | 279     |  5      | 14      | 39      | 239.554 | ...     | 0       | 1       | 2       | 1       | 1       | 0       | 68      | 168     | 24      | 4       |\n",
       "| 11      | 23      | 7       | 5       | 1       | 289     | 36      | 13      | 33      | 239.554 | ...     | 0       | 1       | 2       | 1       | 0       | 1       | 90      | 172     | 30      | 2       |\n",
       "|  3      | 23      | 7       | 6       | 1       | 179     | 51      | 18      | 38      | 239.554 | ...     | 0       | 1       | 0       | 1       | 0       | 0       | 89      | 170     | 31      | 2       |\n",
       "\n"
      ],
      "text/plain": [
       "  ID Reason_for_absence Month_of_absence Day_of_the_week Seasons\n",
       "1 11 26                 7                3               1      \n",
       "2 36  0                 7                3               1      \n",
       "3  3 23                 7                4               1      \n",
       "4  7  7                 7                5               1      \n",
       "5 11 23                 7                5               1      \n",
       "6  3 23                 7                6               1      \n",
       "  Transportation_expense Distance_from_Residence_to_Work Service_time Age\n",
       "1 289                    36                              13           33 \n",
       "2 118                    13                              18           50 \n",
       "3 179                    51                              18           38 \n",
       "4 279                     5                              14           39 \n",
       "5 289                    36                              13           33 \n",
       "6 179                    51                              18           38 \n",
       "  Work_load_Average_div_day ... Disciplinary_failure Education Son\n",
       "1 239.554                   ... 0                    1         2  \n",
       "2 239.554                   ... 1                    1         1  \n",
       "3 239.554                   ... 0                    1         0  \n",
       "4 239.554                   ... 0                    1         2  \n",
       "5 239.554                   ... 0                    1         2  \n",
       "6 239.554                   ... 0                    1         0  \n",
       "  Social_drinker Social_smoker Pet Weight Height Body_mass_index Absenteeism\n",
       "1 1              0             1   90     172    30              4          \n",
       "2 1              0             0   98     178    31              0          \n",
       "3 1              0             0   89     170    31              2          \n",
       "4 1              1             0   68     168    24              4          \n",
       "5 1              0             1   90     172    30              2          \n",
       "6 1              0             0   89     170    31              2          "
      ]
     },
     "metadata": {},
     "output_type": "display_data"
    },
    {
     "name": "stdout",
     "output_type": "stream",
     "text": [
      "Classes 'data.table' and 'data.frame':\t740 obs. of  21 variables:\n",
      " $ ID                             : int  11 36 3 7 11 3 10 20 14 1 ...\n",
      " $ Reason_for_absence             : int  26 0 23 7 23 23 22 23 19 22 ...\n",
      " $ Month_of_absence               : int  7 7 7 7 7 7 7 7 7 7 ...\n",
      " $ Day_of_the_week                : int  3 3 4 5 5 6 6 6 2 2 ...\n",
      " $ Seasons                        : int  1 1 1 1 1 1 1 1 1 1 ...\n",
      " $ Transportation_expense         : int  289 118 179 279 289 179 361 260 155 235 ...\n",
      " $ Distance_from_Residence_to_Work: int  36 13 51 5 36 51 52 50 12 11 ...\n",
      " $ Service_time                   : int  13 18 18 14 13 18 3 11 14 14 ...\n",
      " $ Age                            : int  33 50 38 39 33 38 28 36 34 37 ...\n",
      " $ Work_load_Average_div_day      : num  240 240 240 240 240 ...\n",
      " $ Hit_target                     : int  97 97 97 97 97 97 97 97 97 97 ...\n",
      " $ Disciplinary_failure           : int  0 1 0 0 0 0 0 0 0 0 ...\n",
      " $ Education                      : int  1 1 1 1 1 1 1 1 1 3 ...\n",
      " $ Son                            : int  2 1 0 2 2 0 1 4 2 1 ...\n",
      " $ Social_drinker                 : int  1 1 1 1 1 1 1 1 1 0 ...\n",
      " $ Social_smoker                  : int  0 0 0 1 0 0 0 0 0 0 ...\n",
      " $ Pet                            : int  1 0 0 0 1 0 4 0 0 1 ...\n",
      " $ Weight                         : int  90 98 89 68 90 89 80 65 95 88 ...\n",
      " $ Height                         : int  172 178 170 168 172 170 172 168 196 172 ...\n",
      " $ Body_mass_index                : int  30 31 31 24 30 31 27 23 25 29 ...\n",
      " $ Absenteeism                    : int  4 0 2 4 2 2 8 4 40 8 ...\n",
      " - attr(*, \".internal.selfref\")=<externalptr> \n"
     ]
    }
   ],
   "source": [
    "d2=fread(\"C:/Users/pinar/Desktop/Absenteeism_at_work_AAA/Absenteeism_at_work.csv\")\n",
    "head(d2)\n",
    "str(d2)\n",
    "\n",
    "set.seed(4321)"
   ]
  },
  {
   "cell_type": "code",
   "execution_count": 4,
   "id": "272c2e33",
   "metadata": {},
   "outputs": [
    {
     "data": {
      "text/html": [
       "<table>\n",
       "<thead><tr><th scope=col>ID</th><th scope=col>Reason_for_absence</th><th scope=col>Month_of_absence</th><th scope=col>Day_of_the_week</th><th scope=col>Seasons</th><th scope=col>Transportation_expense</th><th scope=col>Distance_from_Residence_to_Work</th><th scope=col>Service_time</th><th scope=col>Age</th><th scope=col>Work_load_Average_div_day</th><th scope=col>...</th><th scope=col>Disciplinary_failure</th><th scope=col>Education</th><th scope=col>Son</th><th scope=col>Social_drinker</th><th scope=col>Social_smoker</th><th scope=col>Pet</th><th scope=col>Weight</th><th scope=col>Height</th><th scope=col>Body_mass_index</th><th scope=col>Absenteeism</th></tr></thead>\n",
       "<tbody>\n",
       "\t<tr><td>11     </td><td>26     </td><td>7      </td><td>3      </td><td>1      </td><td>289    </td><td>36     </td><td>13     </td><td>33     </td><td>239.554</td><td>...    </td><td>0      </td><td>1      </td><td>2      </td><td>1      </td><td>0      </td><td>1      </td><td>90     </td><td>172    </td><td>30     </td><td>4      </td></tr>\n",
       "\t<tr><td>36     </td><td> 0     </td><td>7      </td><td>3      </td><td>1      </td><td>118    </td><td>13     </td><td>18     </td><td>50     </td><td>239.554</td><td>...    </td><td>1      </td><td>1      </td><td>1      </td><td>1      </td><td>0      </td><td>0      </td><td>98     </td><td>178    </td><td>31     </td><td>0      </td></tr>\n",
       "\t<tr><td> 3     </td><td>23     </td><td>7      </td><td>4      </td><td>1      </td><td>179    </td><td>51     </td><td>18     </td><td>38     </td><td>239.554</td><td>...    </td><td>0      </td><td>1      </td><td>0      </td><td>1      </td><td>0      </td><td>0      </td><td>89     </td><td>170    </td><td>31     </td><td>2      </td></tr>\n",
       "\t<tr><td> 7     </td><td> 7     </td><td>7      </td><td>5      </td><td>1      </td><td>279    </td><td> 5     </td><td>14     </td><td>39     </td><td>239.554</td><td>...    </td><td>0      </td><td>1      </td><td>2      </td><td>1      </td><td>1      </td><td>0      </td><td>68     </td><td>168    </td><td>24     </td><td>4      </td></tr>\n",
       "\t<tr><td>11     </td><td>23     </td><td>7      </td><td>5      </td><td>1      </td><td>289    </td><td>36     </td><td>13     </td><td>33     </td><td>239.554</td><td>...    </td><td>0      </td><td>1      </td><td>2      </td><td>1      </td><td>0      </td><td>1      </td><td>90     </td><td>172    </td><td>30     </td><td>2      </td></tr>\n",
       "\t<tr><td>10     </td><td>22     </td><td>7      </td><td>6      </td><td>1      </td><td>361    </td><td>52     </td><td> 3     </td><td>28     </td><td>239.554</td><td>...    </td><td>0      </td><td>1      </td><td>1      </td><td>1      </td><td>0      </td><td>4      </td><td>80     </td><td>172    </td><td>27     </td><td>8      </td></tr>\n",
       "</tbody>\n",
       "</table>\n"
      ],
      "text/latex": [
       "\\begin{tabular}{r|lllllllllllllllllllll}\n",
       " ID & Reason\\_for\\_absence & Month\\_of\\_absence & Day\\_of\\_the\\_week & Seasons & Transportation\\_expense & Distance\\_from\\_Residence\\_to\\_Work & Service\\_time & Age & Work\\_load\\_Average\\_div\\_day & ... & Disciplinary\\_failure & Education & Son & Social\\_drinker & Social\\_smoker & Pet & Weight & Height & Body\\_mass\\_index & Absenteeism\\\\\n",
       "\\hline\n",
       "\t 11      & 26      & 7       & 3       & 1       & 289     & 36      & 13      & 33      & 239.554 & ...     & 0       & 1       & 2       & 1       & 0       & 1       & 90      & 172     & 30      & 4      \\\\\n",
       "\t 36      &  0      & 7       & 3       & 1       & 118     & 13      & 18      & 50      & 239.554 & ...     & 1       & 1       & 1       & 1       & 0       & 0       & 98      & 178     & 31      & 0      \\\\\n",
       "\t  3      & 23      & 7       & 4       & 1       & 179     & 51      & 18      & 38      & 239.554 & ...     & 0       & 1       & 0       & 1       & 0       & 0       & 89      & 170     & 31      & 2      \\\\\n",
       "\t  7      &  7      & 7       & 5       & 1       & 279     &  5      & 14      & 39      & 239.554 & ...     & 0       & 1       & 2       & 1       & 1       & 0       & 68      & 168     & 24      & 4      \\\\\n",
       "\t 11      & 23      & 7       & 5       & 1       & 289     & 36      & 13      & 33      & 239.554 & ...     & 0       & 1       & 2       & 1       & 0       & 1       & 90      & 172     & 30      & 2      \\\\\n",
       "\t 10      & 22      & 7       & 6       & 1       & 361     & 52      &  3      & 28      & 239.554 & ...     & 0       & 1       & 1       & 1       & 0       & 4       & 80      & 172     & 27      & 8      \\\\\n",
       "\\end{tabular}\n"
      ],
      "text/markdown": [
       "\n",
       "| ID | Reason_for_absence | Month_of_absence | Day_of_the_week | Seasons | Transportation_expense | Distance_from_Residence_to_Work | Service_time | Age | Work_load_Average_div_day | ... | Disciplinary_failure | Education | Son | Social_drinker | Social_smoker | Pet | Weight | Height | Body_mass_index | Absenteeism |\n",
       "|---|---|---|---|---|---|---|---|---|---|---|---|---|---|---|---|---|---|---|---|---|\n",
       "| 11      | 26      | 7       | 3       | 1       | 289     | 36      | 13      | 33      | 239.554 | ...     | 0       | 1       | 2       | 1       | 0       | 1       | 90      | 172     | 30      | 4       |\n",
       "| 36      |  0      | 7       | 3       | 1       | 118     | 13      | 18      | 50      | 239.554 | ...     | 1       | 1       | 1       | 1       | 0       | 0       | 98      | 178     | 31      | 0       |\n",
       "|  3      | 23      | 7       | 4       | 1       | 179     | 51      | 18      | 38      | 239.554 | ...     | 0       | 1       | 0       | 1       | 0       | 0       | 89      | 170     | 31      | 2       |\n",
       "|  7      |  7      | 7       | 5       | 1       | 279     |  5      | 14      | 39      | 239.554 | ...     | 0       | 1       | 2       | 1       | 1       | 0       | 68      | 168     | 24      | 4       |\n",
       "| 11      | 23      | 7       | 5       | 1       | 289     | 36      | 13      | 33      | 239.554 | ...     | 0       | 1       | 2       | 1       | 0       | 1       | 90      | 172     | 30      | 2       |\n",
       "| 10      | 22      | 7       | 6       | 1       | 361     | 52      |  3      | 28      | 239.554 | ...     | 0       | 1       | 1       | 1       | 0       | 4       | 80      | 172     | 27      | 8       |\n",
       "\n"
      ],
      "text/plain": [
       "  ID Reason_for_absence Month_of_absence Day_of_the_week Seasons\n",
       "1 11 26                 7                3               1      \n",
       "2 36  0                 7                3               1      \n",
       "3  3 23                 7                4               1      \n",
       "4  7  7                 7                5               1      \n",
       "5 11 23                 7                5               1      \n",
       "6 10 22                 7                6               1      \n",
       "  Transportation_expense Distance_from_Residence_to_Work Service_time Age\n",
       "1 289                    36                              13           33 \n",
       "2 118                    13                              18           50 \n",
       "3 179                    51                              18           38 \n",
       "4 279                     5                              14           39 \n",
       "5 289                    36                              13           33 \n",
       "6 361                    52                               3           28 \n",
       "  Work_load_Average_div_day ... Disciplinary_failure Education Son\n",
       "1 239.554                   ... 0                    1         2  \n",
       "2 239.554                   ... 1                    1         1  \n",
       "3 239.554                   ... 0                    1         0  \n",
       "4 239.554                   ... 0                    1         2  \n",
       "5 239.554                   ... 0                    1         2  \n",
       "6 239.554                   ... 0                    1         1  \n",
       "  Social_drinker Social_smoker Pet Weight Height Body_mass_index Absenteeism\n",
       "1 1              0             1   90     172    30              4          \n",
       "2 1              0             0   98     178    31              0          \n",
       "3 1              0             0   89     170    31              2          \n",
       "4 1              1             0   68     168    24              4          \n",
       "5 1              0             1   90     172    30              2          \n",
       "6 1              0             4   80     172    27              8          "
      ]
     },
     "metadata": {},
     "output_type": "display_data"
    },
    {
     "data": {
      "text/html": [
       "<table>\n",
       "<thead><tr><th scope=col>ID</th><th scope=col>Reason_for_absence</th><th scope=col>Month_of_absence</th><th scope=col>Day_of_the_week</th><th scope=col>Seasons</th><th scope=col>Transportation_expense</th><th scope=col>Distance_from_Residence_to_Work</th><th scope=col>Service_time</th><th scope=col>Age</th><th scope=col>Work_load_Average_div_day</th><th scope=col>...</th><th scope=col>Disciplinary_failure</th><th scope=col>Education</th><th scope=col>Son</th><th scope=col>Social_drinker</th><th scope=col>Social_smoker</th><th scope=col>Pet</th><th scope=col>Weight</th><th scope=col>Height</th><th scope=col>Body_mass_index</th><th scope=col>Absenteeism</th></tr></thead>\n",
       "<tbody>\n",
       "\t<tr><td> 3     </td><td>23     </td><td>7      </td><td>6      </td><td>1      </td><td>179    </td><td>51     </td><td>18     </td><td>38     </td><td>239.554</td><td>...    </td><td>0      </td><td>1      </td><td>0      </td><td>1      </td><td>0      </td><td>0      </td><td>89     </td><td>170    </td><td>31     </td><td> 2     </td></tr>\n",
       "\t<tr><td>20     </td><td>23     </td><td>7      </td><td>6      </td><td>1      </td><td>260    </td><td>50     </td><td>11     </td><td>36     </td><td>239.554</td><td>...    </td><td>0      </td><td>1      </td><td>4      </td><td>1      </td><td>0      </td><td>0      </td><td>65     </td><td>168    </td><td>23     </td><td> 4     </td></tr>\n",
       "\t<tr><td>14     </td><td>19     </td><td>7      </td><td>2      </td><td>1      </td><td>155    </td><td>12     </td><td>14     </td><td>34     </td><td>239.554</td><td>...    </td><td>0      </td><td>1      </td><td>2      </td><td>1      </td><td>0      </td><td>0      </td><td>95     </td><td>196    </td><td>25     </td><td>40     </td></tr>\n",
       "\t<tr><td>20     </td><td>11     </td><td>7      </td><td>4      </td><td>1      </td><td>260    </td><td>50     </td><td>11     </td><td>36     </td><td>239.554</td><td>...    </td><td>0      </td><td>1      </td><td>4      </td><td>1      </td><td>0      </td><td>0      </td><td>65     </td><td>168    </td><td>23     </td><td> 8     </td></tr>\n",
       "\t<tr><td> 3     </td><td>23     </td><td>7      </td><td>6      </td><td>1      </td><td>179    </td><td>51     </td><td>18     </td><td>38     </td><td>239.554</td><td>...    </td><td>0      </td><td>1      </td><td>0      </td><td>1      </td><td>0      </td><td>0      </td><td>89     </td><td>170    </td><td>31     </td><td> 2     </td></tr>\n",
       "\t<tr><td> 6     </td><td>11     </td><td>7      </td><td>5      </td><td>1      </td><td>189    </td><td>29     </td><td>13     </td><td>33     </td><td>239.554</td><td>...    </td><td>0      </td><td>1      </td><td>2      </td><td>0      </td><td>0      </td><td>2      </td><td>69     </td><td>167    </td><td>25     </td><td> 8     </td></tr>\n",
       "</tbody>\n",
       "</table>\n"
      ],
      "text/latex": [
       "\\begin{tabular}{r|lllllllllllllllllllll}\n",
       " ID & Reason\\_for\\_absence & Month\\_of\\_absence & Day\\_of\\_the\\_week & Seasons & Transportation\\_expense & Distance\\_from\\_Residence\\_to\\_Work & Service\\_time & Age & Work\\_load\\_Average\\_div\\_day & ... & Disciplinary\\_failure & Education & Son & Social\\_drinker & Social\\_smoker & Pet & Weight & Height & Body\\_mass\\_index & Absenteeism\\\\\n",
       "\\hline\n",
       "\t  3      & 23      & 7       & 6       & 1       & 179     & 51      & 18      & 38      & 239.554 & ...     & 0       & 1       & 0       & 1       & 0       & 0       & 89      & 170     & 31      &  2     \\\\\n",
       "\t 20      & 23      & 7       & 6       & 1       & 260     & 50      & 11      & 36      & 239.554 & ...     & 0       & 1       & 4       & 1       & 0       & 0       & 65      & 168     & 23      &  4     \\\\\n",
       "\t 14      & 19      & 7       & 2       & 1       & 155     & 12      & 14      & 34      & 239.554 & ...     & 0       & 1       & 2       & 1       & 0       & 0       & 95      & 196     & 25      & 40     \\\\\n",
       "\t 20      & 11      & 7       & 4       & 1       & 260     & 50      & 11      & 36      & 239.554 & ...     & 0       & 1       & 4       & 1       & 0       & 0       & 65      & 168     & 23      &  8     \\\\\n",
       "\t  3      & 23      & 7       & 6       & 1       & 179     & 51      & 18      & 38      & 239.554 & ...     & 0       & 1       & 0       & 1       & 0       & 0       & 89      & 170     & 31      &  2     \\\\\n",
       "\t  6      & 11      & 7       & 5       & 1       & 189     & 29      & 13      & 33      & 239.554 & ...     & 0       & 1       & 2       & 0       & 0       & 2       & 69      & 167     & 25      &  8     \\\\\n",
       "\\end{tabular}\n"
      ],
      "text/markdown": [
       "\n",
       "| ID | Reason_for_absence | Month_of_absence | Day_of_the_week | Seasons | Transportation_expense | Distance_from_Residence_to_Work | Service_time | Age | Work_load_Average_div_day | ... | Disciplinary_failure | Education | Son | Social_drinker | Social_smoker | Pet | Weight | Height | Body_mass_index | Absenteeism |\n",
       "|---|---|---|---|---|---|---|---|---|---|---|---|---|---|---|---|---|---|---|---|---|\n",
       "|  3      | 23      | 7       | 6       | 1       | 179     | 51      | 18      | 38      | 239.554 | ...     | 0       | 1       | 0       | 1       | 0       | 0       | 89      | 170     | 31      |  2      |\n",
       "| 20      | 23      | 7       | 6       | 1       | 260     | 50      | 11      | 36      | 239.554 | ...     | 0       | 1       | 4       | 1       | 0       | 0       | 65      | 168     | 23      |  4      |\n",
       "| 14      | 19      | 7       | 2       | 1       | 155     | 12      | 14      | 34      | 239.554 | ...     | 0       | 1       | 2       | 1       | 0       | 0       | 95      | 196     | 25      | 40      |\n",
       "| 20      | 11      | 7       | 4       | 1       | 260     | 50      | 11      | 36      | 239.554 | ...     | 0       | 1       | 4       | 1       | 0       | 0       | 65      | 168     | 23      |  8      |\n",
       "|  3      | 23      | 7       | 6       | 1       | 179     | 51      | 18      | 38      | 239.554 | ...     | 0       | 1       | 0       | 1       | 0       | 0       | 89      | 170     | 31      |  2      |\n",
       "|  6      | 11      | 7       | 5       | 1       | 189     | 29      | 13      | 33      | 239.554 | ...     | 0       | 1       | 2       | 0       | 0       | 2       | 69      | 167     | 25      |  8      |\n",
       "\n"
      ],
      "text/plain": [
       "  ID Reason_for_absence Month_of_absence Day_of_the_week Seasons\n",
       "1  3 23                 7                6               1      \n",
       "2 20 23                 7                6               1      \n",
       "3 14 19                 7                2               1      \n",
       "4 20 11                 7                4               1      \n",
       "5  3 23                 7                6               1      \n",
       "6  6 11                 7                5               1      \n",
       "  Transportation_expense Distance_from_Residence_to_Work Service_time Age\n",
       "1 179                    51                              18           38 \n",
       "2 260                    50                              11           36 \n",
       "3 155                    12                              14           34 \n",
       "4 260                    50                              11           36 \n",
       "5 179                    51                              18           38 \n",
       "6 189                    29                              13           33 \n",
       "  Work_load_Average_div_day ... Disciplinary_failure Education Son\n",
       "1 239.554                   ... 0                    1         0  \n",
       "2 239.554                   ... 0                    1         4  \n",
       "3 239.554                   ... 0                    1         2  \n",
       "4 239.554                   ... 0                    1         4  \n",
       "5 239.554                   ... 0                    1         0  \n",
       "6 239.554                   ... 0                    1         2  \n",
       "  Social_drinker Social_smoker Pet Weight Height Body_mass_index Absenteeism\n",
       "1 1              0             0   89     170    31               2         \n",
       "2 1              0             0   65     168    23               4         \n",
       "3 1              0             0   95     196    25              40         \n",
       "4 1              0             0   65     168    23               8         \n",
       "5 1              0             0   89     170    31               2         \n",
       "6 0              0             2   69     167    25               8         "
      ]
     },
     "metadata": {},
     "output_type": "display_data"
    }
   ],
   "source": [
    "# Test and train splitting\n",
    "split2 <- sample(c(rep(0, 0.7 * nrow(d2)), rep(1, 0.3 * nrow(d2))))\n",
    "\n",
    "traindata2 <- d2[split2 == 0, ]\n",
    "testdata2 <- d2[split2 == 1, ]\n",
    "\n",
    "head(traindata2)\n",
    "head(testdata2)"
   ]
  },
  {
   "cell_type": "code",
   "execution_count": 13,
   "id": "383d9dc4",
   "metadata": {
    "scrolled": false
   },
   "outputs": [
    {
     "name": "stderr",
     "output_type": "stream",
     "text": [
      "Warning message:\n",
      "\"extra=106 but the response has 17 levels (only the 2nd level is displayed)\""
     ]
    },
    {
     "data": {
      "image/png": "[encoded data removed]",
      "text/plain": [
       "plot without title"
      ]
     },
     "metadata": {},
     "output_type": "display_data"
    }
   ],
   "source": [
    "# Decision tree algorithm\n",
    "\n",
    "dt2 <- rpart(Absenteeism ~ ., data= traindata2, method= \"class\")\n",
    "rpart.plot(dt2, type = 2, extra=106, box.palette = \"Blues\")"
   ]
  },
  {
   "cell_type": "code",
   "execution_count": 8,
   "id": "b6dab6a4",
   "metadata": {},
   "outputs": [
    {
     "data": {
      "text/plain": [
       "     predictdata_dt2\n",
       "       0  1  2  3  4  5  8 16 24 32 40 56 64 80 104 112 120\n",
       "  0   13  0  0  0  0  0  0  0  0  0  0  0  0  0   0   0   0\n",
       "  1    0  9  9  0  0  0  3  0  0  0  0  0  0  0   0   0   0\n",
       "  2    0  9 35  4  1  0  7  0  0  0  0  0  0  0   0   0   0\n",
       "  3    0  6 13  4  1  0  7  0  0  0  0  0  0  0   0   0   0\n",
       "  4    0  1  5  0  5  0  5  0  0  0  0  0  0  0   0   0   0\n",
       "  5    0  1  1  0  0  0  1  0  0  0  0  0  0  0   0   0   0\n",
       "  7    0  0  0  0  0  0  1  0  0  0  0  0  0  0   0   0   0\n",
       "  8    0  1  7  0  0  0 56  0  0  0  0  0  0  0   0   0   0\n",
       "  16   0  0  0  0  1  0  6  0  0  0  0  0  0  0   0   0   0\n",
       "  24   0  0  0  0  0  0  3  0  0  0  0  0  0  0   0   0   0\n",
       "  32   0  0  0  0  0  0  1  0  0  0  0  0  0  0   0   0   0\n",
       "  40   0  0  0  0  0  0  1  0  0  0  0  0  0  0   0   0   0\n",
       "  48   0  0  0  0  0  0  1  0  0  0  0  0  0  0   0   0   0\n",
       "  64   0  0  0  0  0  0  1  0  0  0  0  0  0  0   0   0   0\n",
       "  80   0  0  0  0  0  0  1  0  0  0  0  0  0  0   0   0   0\n",
       "  120  0  0  0  0  0  0  2  0  0  0  0  0  0  0   0   0   0"
      ]
     },
     "metadata": {},
     "output_type": "display_data"
    },
    {
     "name": "stdout",
     "output_type": "stream",
     "text": [
      "[1] \"Accuracy for decision tree algorithm 0.301801801801802\"\n"
     ]
    }
   ],
   "source": [
    "# Prediction\n",
    "\n",
    "predictdata_dt2 <- predict(dt2,testdata2, type=\"class\")\n",
    "\n",
    "table_mat1_2 <- table(testdata2$Absenteeism, predictdata_dt2)\n",
    "table_mat1_2\n",
    "\n",
    "# Accuracy\n",
    "\n",
    "accuracy_Test1_2 <- sum(diag(table_mat1_2)) / sum(table_mat1_2)\n",
    "print(paste('Accuracy for decision tree algorithm', accuracy_Test1_2))"
   ]
  },
  {
   "cell_type": "code",
   "execution_count": 10,
   "id": "f99c48e5",
   "metadata": {},
   "outputs": [
    {
     "ename": "ERROR",
     "evalue": "Error in randomForest(formula = Absenteeism ~ ., data = traindata2, ntree = 500, : \"randomForest\" fonksiyonu bulunamadı\n",
     "output_type": "error",
     "traceback": [
      "Error in randomForest(formula = Absenteeism ~ ., data = traindata2, ntree = 500, : \"randomForest\" fonksiyonu bulunamadı\nTraceback:\n"
     ]
    }
   ],
   "source": [
    "# Random forest algorithm\n",
    "\n",
    "rf2 <- randomForest(formula= Absenteeism ~ ., data = traindata2, ntree= 500, nodesize =5)\n",
    "rf2\n",
    "\n",
    "# Number of trees with lowest MSE\n",
    "which.min(rf2$mse)\n",
    "\n",
    "# Produce variable importance plot\n",
    "varImpPlot(rf2)"
   ]
  },
  {
   "cell_type": "raw",
   "id": "c1001d25",
   "metadata": {},
   "source": [
    "# Random forest algorithm\n",
    "\n",
    "rf2 <- randomForest(formula= Absenteeism ~ ., data = traindata2, ntree= 500, nodesize =5)\n",
    "rf2\n",
    "\n",
    "Call:\n",
    " randomForest(formula = Absenteeism ~ ., data = traindata2, ntree = 500,      nodesize = 5) \n",
    "               Type of random forest: regression\n",
    "                     Number of trees: 500\n",
    "No. of variables tried at each split: 6\n",
    "\n",
    "          Mean of squared residuals: 146.6414\n",
    "                    % Var explained: 14.54\n",
    "\n",
    "# Number of trees with lowest MSE\n",
    "which.min(rf2$mse)\n",
    "[1] 55\n",
    "\n",
    "# Produce variable importance plot\n",
    "varImpPlot(rf2) "
   ]
  },
  {
   "attachments": {
    "image.png": {
     "image/png": "[encoded data removed]"
    }
   },
   "cell_type": "markdown",
   "id": "9b363de8",
   "metadata": {},
   "source": [
    "![image.png](attachment:image.png)"
   ]
  },
  {
   "cell_type": "code",
   "execution_count": 11,
   "id": "2b6df811",
   "metadata": {},
   "outputs": [
    {
     "ename": "ERROR",
     "evalue": "Error in tuneRF(traindata2[, 1:20], traindata2$Absenteeism, ntreeTry = 500, : \"tuneRF\" fonksiyonu bulunamadı\n",
     "output_type": "error",
     "traceback": [
      "Error in tuneRF(traindata2[, 1:20], traindata2$Absenteeism, ntreeTry = 500, : \"tuneRF\" fonksiyonu bulunamadı\nTraceback:\n"
     ]
    }
   ],
   "source": [
    "# Tuning\n",
    "model_tuned2 <- tuneRF(\n",
    "  traindata2[,1:20], # define predictor variables\n",
    "  traindata2$Absenteeism, # define response variable\n",
    "  ntreeTry=500,\n",
    "  mtryStart=4, \n",
    "  stepFactor=1.5,\n",
    "  improve=0.01,\n",
    "  trace=FALSE) #don't show real-time progress\n",
    "\n",
    "best.m2 <- model_tuned2[model_tuned2[, 2] == min(model_tuned2[, 2]), 1]\n",
    "print(model_tuned2)\n",
    "print(best.m2)"
   ]
  },
  {
   "cell_type": "raw",
   "id": "1e6facae",
   "metadata": {},
   "source": [
    "# Tuning\n",
    "model_tuned2 <- tuneRF(\n",
    "+   traindata2[,1:20], # define predictor variables\n",
    "+   traindata2$Absenteeism, # define response variable\n",
    "+   ntreeTry=500,\n",
    "+   mtryStart=4, \n",
    "+   stepFactor=1.5,\n",
    "+   improve=0.01,\n",
    "+   trace=FALSE) #don't show real-time progress\n",
    "-0.01858881 0.01 \n",
    "-0.001068319 0.01 \n",
    " \n",
    "best.m2 <- model_tuned2[model_tuned2[, 2] == min(model_tuned2[, 2]), 1]\n",
    "print(model_tuned2)\n",
    "  mtry OOBError\n",
    "3    3 147.1851\n",
    "4    4 144.4990\n",
    "6    6 144.6534\n",
    "print(best.m2)\n",
    "[1] 4"
   ]
  },
  {
   "attachments": {
    "image.png": {
     "image/png": "[encoded data removed]"
    }
   },
   "cell_type": "markdown",
   "id": "427a39f5",
   "metadata": {},
   "source": [
    "![image.png](attachment:image.png)"
   ]
  },
  {
   "cell_type": "code",
   "execution_count": 14,
   "id": "e64db331",
   "metadata": {},
   "outputs": [
    {
     "ename": "ERROR",
     "evalue": "Error in randomForest(formula = Absenteeism ~ ., data = traindata2, ntree = 500, : \"randomForest\" fonksiyonu bulunamadı\n",
     "output_type": "error",
     "traceback": [
      "Error in randomForest(formula = Absenteeism ~ ., data = traindata2, ntree = 500, : \"randomForest\" fonksiyonu bulunamadı\nTraceback:\n"
     ]
    }
   ],
   "source": [
    "# set best.m\n",
    "set.seed(321)\n",
    "rf2 <- randomForest(formula= Absenteeism ~ ., data = traindata2, ntree= 500, mtry=best.m2, nodesize= 5, type=\"class\")\n",
    "rf2\n",
    "plot(rf2)"
   ]
  },
  {
   "cell_type": "raw",
   "id": "18972aef",
   "metadata": {},
   "source": [
    "# set best.m\n",
    "set.seed(321)\n",
    "rf2 <- randomForest(formula= Absenteeism ~ ., data = traindata2, ntree= 500, mtry=best.m2, nodesize= 5, type=\"class\")\n",
    "rf2\n",
    "\n",
    "Call:\n",
    " randomForest(formula = Absenteeism ~ ., data = traindata2, ntree = 500,      mtry = best.m2, nodesize = 5, type = \"class\") \n",
    "               Type of random forest: regression\n",
    "                     Number of trees: 500\n",
    "No. of variables tried at each split: 4\n",
    "\n",
    "          Mean of squared residuals: 145.3295\n",
    "                    % Var explained: 15.3\n",
    "plot(rf2)"
   ]
  },
  {
   "attachments": {
    "image.png": {
     "image/png": "[encoded data removed]"
    }
   },
   "cell_type": "markdown",
   "id": "2a28079a",
   "metadata": {},
   "source": [
    "![image.png](attachment:image.png)"
   ]
  },
  {
   "cell_type": "code",
   "execution_count": 15,
   "id": "b579f61f",
   "metadata": {},
   "outputs": [
    {
     "ename": "ERROR",
     "evalue": "Error in predict(rf2, testdata2): 'rf2' nesnesi bulunamadı\n",
     "output_type": "error",
     "traceback": [
      "Error in predict(rf2, testdata2): 'rf2' nesnesi bulunamadı\nTraceback:\n",
      "1. predict(rf2, testdata2)"
     ]
    }
   ],
   "source": [
    "#Prediction\n",
    "predictdata_rf2 <-predict(rf2, testdata2)\n",
    "table(predictdata_rf2, testdata2$Absenteeism)\n",
    "\n",
    "#Accuracy\n",
    "table_mat2_2 <- table(testdata2$Absenteeism, predictdata_rf2)\n",
    "\n",
    "accuracy_Test2_2 <- sum(diag(table_mat2_2)) / sum(table_mat2_2)\n",
    "print(paste('Accuracy for random forest algorithm', accuracy_Test2_2))"
   ]
  },
  {
   "cell_type": "raw",
   "id": "b90511bf",
   "metadata": {},
   "source": [
    "#Prediction\n",
    "predictdata_rf2 <-predict(rf2, testdata2)\n",
    "table(predictdata_rf2, testdata2$Absenteeism)\n",
    "                   \n",
    "predictdata_rf2     0 1 2 3 4 5 7 8 16 24 32 40 48 64 80 120\n",
    "  0.622692458418774 1 0 0 0 0 0 0 0  0  0  0  0  0  0  0   0\n",
    "  1.41479890351195  1 0 0 0 0 0 0 0  0  0  0  0  0  0  0   0\n",
    "  1.68014291783096  1 0 0 0 0 0 0 0  0  0  0  0  0  0  0   0\n",
    "  1.70658140924151  0 1 0 0 0 0 0 0  0  0  0  0  0  0  0   0\n",
    "  1.94075475663439  0 1 0 0 0 0 0 0  0  0  0  0  0  0  0   0\n",
    "  2.05338651376614  0 0 1 0 0 0 0 0  0  0  0  0  0  0  0   0\n",
    "  2.16583612781081  0 0 1 0 0 0 0 0  0  0  0  0  0  0  0   0\n",
    "  2.20849340862843  0 1 0 0 0 0 0 0  0  0  0  0  0  0  0   0\n",
    "  2.21768259108064  0 0 2 0 0 0 0 0  0  0  0  0  0  0  0   0\n",
    "  2.26239237467272  0 0 0 0 1 0 0 0  0  0  0  0  0  0  0   0\n",
    "  2.33202791524299  0 0 0 1 0 0 0 0  0  0  0  0  0  0  0   0\n",
    "  2.43983804864118  0 1 0 0 0 0 0 0  0  0  0  0  0  0  0   0\n",
    "  2.44287007575758  1 0 0 0 0 0 0 0  0  0  0  0  0  0  0   0\n",
    "  2.45515270467027  0 0 0 1 0 0 0 0  0  0  0  0  0  0  0   0\n",
    "  2.45633775785238  0 0 0 1 0 0 0 0  0  0  0  0  0  0  0   0\n",
    "  2.46477573682379  0 0 1 0 0 0 0 0  0  0  0  0  0  0  0   0\n",
    "  2.48449805981012  0 0 1 0 0 0 0 0  0  0  0  0  0  0  0   0\n",
    "  2.49266816930838  0 0 0 1 0 0 0 0  0  0  0  0  0  0  0   0\n",
    "  2.5194748285      0 0 1 1 0 0 0 0  0  0  0  0  0  0  0   0\n",
    "  2.53031939148135  0 1 0 0 0 0 0 0  0  0  0  0  0  0  0   0\n",
    "  2.53109837758362  0 0 1 0 0 0 0 0  0  0  0  0  0  0  0   0\n",
    "  2.55999733494093  0 0 1 1 0 0 0 0  0  0  0  0  0  0  0   0\n",
    "  2.56969664224664  0 0 1 0 0 0 0 0  0  0  0  0  0  0  0   0\n",
    "  2.57573148257777  0 0 0 0 1 0 0 0  0  0  0  0  0  0  0   0\n",
    "  2.73488506298763  0 1 0 0 0 0 0 0  0  0  0  0  0  0  0   0\n",
    "  2.74880330958935  0 0 1 0 0 0 0 0  0  0  0  0  0  0  0   0\n",
    "  2.76015248751251  0 0 1 0 0 0 0 0  0  0  0  0  0  0  0   0\n",
    "  2.82285857081253  0 0 1 1 0 0 0 0  0  0  0  0  0  0  0   0\n",
    "  2.91239912919571  1 0 0 0 0 0 0 0  0  0  0  0  0  0  0   0\n",
    "  2.9427078051542   0 0 1 0 0 0 0 0  0  0  0  0  0  0  0   0\n",
    "  2.98897615162615  0 0 1 0 0 0 0 0  0  0  0  0  0  0  0   0\n",
    "  3.00622878497486  0 0 1 0 0 0 0 0  0  0  0  0  0  0  0   0\n",
    "  3.0215944382772   0 0 1 0 0 0 0 0  0  0  0  0  0  0  0   0\n",
    "  3.04866789062666  1 0 0 0 0 0 0 0  0  0  0  0  0  0  0   0\n",
    "  3.0675994172991   0 0 0 1 0 0 0 0  0  0  0  0  0  0  0   0\n",
    "  3.07414568652216  0 0 0 3 0 0 0 0  0  0  0  0  0  0  0   0\n",
    "  3.0878311938301   0 0 0 0 1 0 0 0  0  0  0  0  0  0  0   0\n",
    "  3.09211120941793  0 0 0 0 1 0 0 0  0  0  0  0  0  0  0   0\n",
    "  3.09729182115884  0 0 0 1 0 0 0 0  0  0  0  0  0  0  0   0\n",
    "  3.17458514842406  0 0 0 1 0 0 0 0  0  0  0  0  0  0  0   0\n",
    "  3.18908130758131  0 0 1 0 0 0 0 0  0  0  0  0  0  0  0   0\n",
    "  3.1997657111305   0 0 0 1 0 0 0 0  0  0  0  0  0  0  0   0\n",
    "  3.21222143041944  0 0 1 0 0 0 0 0  0  0  0  0  0  0  0   0\n",
    "  3.21477328994535  0 0 1 0 0 0 0 0  0  0  0  0  0  0  0   0\n",
    "  3.22167924297924  0 0 1 0 0 0 0 0  0  0  0  0  0  0  0   0\n",
    "  3.26320799881069  0 1 0 0 0 0 0 0  0  0  0  0  0  0  0   0\n",
    "  3.30989326724001  0 1 0 0 0 0 0 0  0  0  0  0  0  0  0   0\n",
    "  3.36076052150068  0 0 1 0 0 0 0 0  0  0  0  0  0  0  0   0\n",
    "  3.37596270198872  0 0 1 0 0 0 0 0  0  0  0  0  0  0  0   0\n",
    "  3.39860374119345  1 0 0 0 0 0 0 0  0  0  0  0  0  0  0   0\n",
    "  3.43704523980566  0 0 1 0 0 0 0 0  0  0  0  0  0  0  0   0\n",
    "  3.48202106095921  0 0 0 1 0 0 0 0  0  0  0  0  0  0  0   0\n",
    "  3.53162722482906  0 0 2 0 0 0 0 0  0  0  0  0  0  0  0   0\n",
    "  3.59170391275391  0 0 1 0 0 0 0 0  0  0  0  0  0  0  0   0\n",
    "  3.61391533756734  0 1 0 0 0 0 0 0  0  0  0  0  0  0  0   0\n",
    "  3.63110882320765  0 0 0 1 0 0 0 0  0  0  0  0  0  0  0   0\n",
    "  3.68267252715105  0 0 1 0 0 0 0 0  0  0  0  0  0  0  0   0\n",
    "  3.68521644452674  0 0 0 1 0 0 0 0  0  0  0  0  0  0  0   0\n",
    "  3.70955187969925  0 0 1 0 0 0 0 0  0  0  0  0  0  0  0   0\n",
    "  3.78494446285315  0 0 0 0 0 0 0 1  0  0  0  0  0  0  0   0\n",
    "  3.79701253732284  0 0 1 0 0 0 0 0  0  0  0  0  0  0  0   0\n",
    "  3.81002336642584  0 0 1 0 0 0 0 0  0  0  0  0  0  0  0   0\n",
    " [ reached getOption(\"max.print\") -- omitted 153 rows ]\n",
    " \n",
    "#Accuracy\n",
    "table_mat2_2 <- table(testdata2$Absenteeism, predictdata_rf2)\n",
    "\n",
    "accuracy_Test2_2 <- sum(diag(table_mat2_2)) / sum(table_mat2_2)\n",
    "print(paste('Accuracy for random forest algorithm', accuracy_Test2_2))\n",
    "[1] \"Accuracy for random forest algorithm 0.0045045045045045\""
   ]
  },
  {
   "cell_type": "markdown",
   "id": "863d8ad1",
   "metadata": {},
   "source": [
    "### Conclusion for Dataset 2\n",
    "\n",
    "DT accuracy is 30% whereas accuracy in RF is less than 0.4%. DT performed better for this data. "
   ]
  },
  {
   "cell_type": "markdown",
   "id": "9d24a571",
   "metadata": {},
   "source": [
    "## Dataset 3 - Turkish Music Emotion\n",
    "The final dataset Turkish music contains four classes in the dataset: happy, sad, angry, relax. To prepare the dataset, verbal and non-verbal music are selected from different genres of Turkish music. A total of 100 music pieces are determined for each class in the database to have an equal number of samples in each class.\n",
    "\n",
    "The target output is the emotion of the song. Total number of features are 50 and there are 400 samples."
   ]
  },
  {
   "cell_type": "code",
   "execution_count": 16,
   "id": "74643f27",
   "metadata": {},
   "outputs": [
    {
     "data": {
      "text/html": [
       "<table>\n",
       "<thead><tr><th scope=col>Class</th><th scope=col>RMSenergy_Mean</th><th scope=col>Lowenergy_Mean</th><th scope=col>Fluctuation_Mean</th><th scope=col>Tempo_Mean</th><th scope=col>MFCC_Mean_1</th><th scope=col>MFCC_Mean_2</th><th scope=col>MFCC_Mean_3</th><th scope=col>MFCC_Mean_4</th><th scope=col>MFCC_Mean_5</th><th scope=col>...</th><th scope=col>Chromagram_Mean_9</th><th scope=col>Chromagram_Mean_10</th><th scope=col>Chromagram_Mean_11</th><th scope=col>Chromagram_Mean_12</th><th scope=col>HarmonicChangeDetectionFunction_Mean</th><th scope=col>HarmonicChangeDetectionFunction_Std</th><th scope=col>HarmonicChangeDetectionFunction_Slope</th><th scope=col>HarmonicChangeDetectionFunction_PeriodFreq</th><th scope=col>HarmonicChangeDetectionFunction_PeriodAmp</th><th scope=col>HarmonicChangeDetectionFunction_PeriodEntropy</th></tr></thead>\n",
       "<tbody>\n",
       "\t<tr><td>relax  </td><td>0.052  </td><td>0.591  </td><td> 9.136 </td><td>130.043</td><td>3.997  </td><td> 0.363 </td><td>0.887  </td><td>0.078  </td><td> 0.221 </td><td>...    </td><td>0.426  </td><td>1.000  </td><td>0.008  </td><td>0.101  </td><td>0.316  </td><td>0.261  </td><td> 0.018 </td><td>1.035  </td><td>0.593  </td><td>0.970  </td></tr>\n",
       "\t<tr><td>relax  </td><td>0.125  </td><td>0.439  </td><td> 6.680 </td><td>142.240</td><td>4.058  </td><td> 0.516 </td><td>0.785  </td><td>0.397  </td><td> 0.556 </td><td>...    </td><td>0.002  </td><td>1.000  </td><td>0.000  </td><td>0.984  </td><td>0.285  </td><td>0.211  </td><td>-0.082 </td><td>3.364  </td><td>0.702  </td><td>0.967  </td></tr>\n",
       "\t<tr><td>relax  </td><td>0.046  </td><td>0.639  </td><td>10.578 </td><td>188.154</td><td>2.775  </td><td> 0.903 </td><td>0.502  </td><td>0.329  </td><td> 0.287 </td><td>...    </td><td>0.184  </td><td>0.746  </td><td>0.016  </td><td>1.000  </td><td>0.413  </td><td>0.299  </td><td> 0.134 </td><td>1.682  </td><td>0.692  </td><td>0.963  </td></tr>\n",
       "\t<tr><td>relax  </td><td>0.135  </td><td>0.603  </td><td>10.442 </td><td> 65.991</td><td>2.841  </td><td> 1.552 </td><td>0.612  </td><td>0.351  </td><td> 0.011 </td><td>...    </td><td>0.038  </td><td>1.000  </td><td>0.161  </td><td>0.757  </td><td>0.422  </td><td>0.265  </td><td> 0.042 </td><td>0.354  </td><td>0.743  </td><td>0.968  </td></tr>\n",
       "\t<tr><td>relax  </td><td>0.066  </td><td>0.591  </td><td> 9.769 </td><td> 88.890</td><td>3.217  </td><td> 0.228 </td><td>0.814  </td><td>0.096  </td><td> 0.434 </td><td>...    </td><td>0.004  </td><td>0.404  </td><td>1.000  </td><td>0.001  </td><td>0.345  </td><td>0.261  </td><td> 0.089 </td><td>0.748  </td><td>0.674  </td><td>0.957  </td></tr>\n",
       "\t<tr><td>relax  </td><td>0.137  </td><td>0.510  </td><td> 7.664 </td><td>116.044</td><td>2.313  </td><td>-0.082 </td><td>0.365  </td><td>0.033  </td><td>-0.136 </td><td>...    </td><td>0.064  </td><td>0.391  </td><td>0.102  </td><td>0.000  </td><td>0.280  </td><td>0.240  </td><td> 0.355 </td><td>1.682  </td><td>0.662  </td><td>0.958  </td></tr>\n",
       "</tbody>\n",
       "</table>\n"
      ],
      "text/latex": [
       "\\begin{tabular}{r|lllllllllllllllllllllllllllllllllllllllllllllllllll}\n",
       " Class & RMSenergy\\_Mean & Lowenergy\\_Mean & Fluctuation\\_Mean & Tempo\\_Mean & MFCC\\_Mean\\_1 & MFCC\\_Mean\\_2 & MFCC\\_Mean\\_3 & MFCC\\_Mean\\_4 & MFCC\\_Mean\\_5 & ... & Chromagram\\_Mean\\_9 & Chromagram\\_Mean\\_10 & Chromagram\\_Mean\\_11 & Chromagram\\_Mean\\_12 & HarmonicChangeDetectionFunction\\_Mean & HarmonicChangeDetectionFunction\\_Std & HarmonicChangeDetectionFunction\\_Slope & HarmonicChangeDetectionFunction\\_PeriodFreq & HarmonicChangeDetectionFunction\\_PeriodAmp & HarmonicChangeDetectionFunction\\_PeriodEntropy\\\\\n",
       "\\hline\n",
       "\t relax   & 0.052   & 0.591   &  9.136  & 130.043 & 3.997   &  0.363  & 0.887   & 0.078   &  0.221  & ...     & 0.426   & 1.000   & 0.008   & 0.101   & 0.316   & 0.261   &  0.018  & 1.035   & 0.593   & 0.970  \\\\\n",
       "\t relax   & 0.125   & 0.439   &  6.680  & 142.240 & 4.058   &  0.516  & 0.785   & 0.397   &  0.556  & ...     & 0.002   & 1.000   & 0.000   & 0.984   & 0.285   & 0.211   & -0.082  & 3.364   & 0.702   & 0.967  \\\\\n",
       "\t relax   & 0.046   & 0.639   & 10.578  & 188.154 & 2.775   &  0.903  & 0.502   & 0.329   &  0.287  & ...     & 0.184   & 0.746   & 0.016   & 1.000   & 0.413   & 0.299   &  0.134  & 1.682   & 0.692   & 0.963  \\\\\n",
       "\t relax   & 0.135   & 0.603   & 10.442  &  65.991 & 2.841   &  1.552  & 0.612   & 0.351   &  0.011  & ...     & 0.038   & 1.000   & 0.161   & 0.757   & 0.422   & 0.265   &  0.042  & 0.354   & 0.743   & 0.968  \\\\\n",
       "\t relax   & 0.066   & 0.591   &  9.769  &  88.890 & 3.217   &  0.228  & 0.814   & 0.096   &  0.434  & ...     & 0.004   & 0.404   & 1.000   & 0.001   & 0.345   & 0.261   &  0.089  & 0.748   & 0.674   & 0.957  \\\\\n",
       "\t relax   & 0.137   & 0.510   &  7.664  & 116.044 & 2.313   & -0.082  & 0.365   & 0.033   & -0.136  & ...     & 0.064   & 0.391   & 0.102   & 0.000   & 0.280   & 0.240   &  0.355  & 1.682   & 0.662   & 0.958  \\\\\n",
       "\\end{tabular}\n"
      ],
      "text/markdown": [
       "\n",
       "| Class | RMSenergy_Mean | Lowenergy_Mean | Fluctuation_Mean | Tempo_Mean | MFCC_Mean_1 | MFCC_Mean_2 | MFCC_Mean_3 | MFCC_Mean_4 | MFCC_Mean_5 | ... | Chromagram_Mean_9 | Chromagram_Mean_10 | Chromagram_Mean_11 | Chromagram_Mean_12 | HarmonicChangeDetectionFunction_Mean | HarmonicChangeDetectionFunction_Std | HarmonicChangeDetectionFunction_Slope | HarmonicChangeDetectionFunction_PeriodFreq | HarmonicChangeDetectionFunction_PeriodAmp | HarmonicChangeDetectionFunction_PeriodEntropy |\n",
       "|---|---|---|---|---|---|---|---|---|---|---|---|---|---|---|---|---|---|---|---|---|\n",
       "| relax   | 0.052   | 0.591   |  9.136  | 130.043 | 3.997   |  0.363  | 0.887   | 0.078   |  0.221  | ...     | 0.426   | 1.000   | 0.008   | 0.101   | 0.316   | 0.261   |  0.018  | 1.035   | 0.593   | 0.970   |\n",
       "| relax   | 0.125   | 0.439   |  6.680  | 142.240 | 4.058   |  0.516  | 0.785   | 0.397   |  0.556  | ...     | 0.002   | 1.000   | 0.000   | 0.984   | 0.285   | 0.211   | -0.082  | 3.364   | 0.702   | 0.967   |\n",
       "| relax   | 0.046   | 0.639   | 10.578  | 188.154 | 2.775   |  0.903  | 0.502   | 0.329   |  0.287  | ...     | 0.184   | 0.746   | 0.016   | 1.000   | 0.413   | 0.299   |  0.134  | 1.682   | 0.692   | 0.963   |\n",
       "| relax   | 0.135   | 0.603   | 10.442  |  65.991 | 2.841   |  1.552  | 0.612   | 0.351   |  0.011  | ...     | 0.038   | 1.000   | 0.161   | 0.757   | 0.422   | 0.265   |  0.042  | 0.354   | 0.743   | 0.968   |\n",
       "| relax   | 0.066   | 0.591   |  9.769  |  88.890 | 3.217   |  0.228  | 0.814   | 0.096   |  0.434  | ...     | 0.004   | 0.404   | 1.000   | 0.001   | 0.345   | 0.261   |  0.089  | 0.748   | 0.674   | 0.957   |\n",
       "| relax   | 0.137   | 0.510   |  7.664  | 116.044 | 2.313   | -0.082  | 0.365   | 0.033   | -0.136  | ...     | 0.064   | 0.391   | 0.102   | 0.000   | 0.280   | 0.240   |  0.355  | 1.682   | 0.662   | 0.958   |\n",
       "\n"
      ],
      "text/plain": [
       "  Class RMSenergy_Mean Lowenergy_Mean Fluctuation_Mean Tempo_Mean MFCC_Mean_1\n",
       "1 relax 0.052          0.591           9.136           130.043    3.997      \n",
       "2 relax 0.125          0.439           6.680           142.240    4.058      \n",
       "3 relax 0.046          0.639          10.578           188.154    2.775      \n",
       "4 relax 0.135          0.603          10.442            65.991    2.841      \n",
       "5 relax 0.066          0.591           9.769            88.890    3.217      \n",
       "6 relax 0.137          0.510           7.664           116.044    2.313      \n",
       "  MFCC_Mean_2 MFCC_Mean_3 MFCC_Mean_4 MFCC_Mean_5 ... Chromagram_Mean_9\n",
       "1  0.363      0.887       0.078        0.221      ... 0.426            \n",
       "2  0.516      0.785       0.397        0.556      ... 0.002            \n",
       "3  0.903      0.502       0.329        0.287      ... 0.184            \n",
       "4  1.552      0.612       0.351        0.011      ... 0.038            \n",
       "5  0.228      0.814       0.096        0.434      ... 0.004            \n",
       "6 -0.082      0.365       0.033       -0.136      ... 0.064            \n",
       "  Chromagram_Mean_10 Chromagram_Mean_11 Chromagram_Mean_12\n",
       "1 1.000              0.008              0.101             \n",
       "2 1.000              0.000              0.984             \n",
       "3 0.746              0.016              1.000             \n",
       "4 1.000              0.161              0.757             \n",
       "5 0.404              1.000              0.001             \n",
       "6 0.391              0.102              0.000             \n",
       "  HarmonicChangeDetectionFunction_Mean HarmonicChangeDetectionFunction_Std\n",
       "1 0.316                                0.261                              \n",
       "2 0.285                                0.211                              \n",
       "3 0.413                                0.299                              \n",
       "4 0.422                                0.265                              \n",
       "5 0.345                                0.261                              \n",
       "6 0.280                                0.240                              \n",
       "  HarmonicChangeDetectionFunction_Slope\n",
       "1  0.018                               \n",
       "2 -0.082                               \n",
       "3  0.134                               \n",
       "4  0.042                               \n",
       "5  0.089                               \n",
       "6  0.355                               \n",
       "  HarmonicChangeDetectionFunction_PeriodFreq\n",
       "1 1.035                                     \n",
       "2 3.364                                     \n",
       "3 1.682                                     \n",
       "4 0.354                                     \n",
       "5 0.748                                     \n",
       "6 1.682                                     \n",
       "  HarmonicChangeDetectionFunction_PeriodAmp\n",
       "1 0.593                                    \n",
       "2 0.702                                    \n",
       "3 0.692                                    \n",
       "4 0.743                                    \n",
       "5 0.674                                    \n",
       "6 0.662                                    \n",
       "  HarmonicChangeDetectionFunction_PeriodEntropy\n",
       "1 0.970                                        \n",
       "2 0.967                                        \n",
       "3 0.963                                        \n",
       "4 0.968                                        \n",
       "5 0.957                                        \n",
       "6 0.958                                        "
      ]
     },
     "metadata": {},
     "output_type": "display_data"
    },
    {
     "name": "stdout",
     "output_type": "stream",
     "text": [
      "Classes 'data.table' and 'data.frame':\t400 obs. of  51 variables:\n",
      " $ Class                                        : chr  \"relax\" \"relax\" \"relax\" \"relax\" ...\n",
      " $ RMSenergy_Mean                               : num  0.052 0.125 0.046 0.135 0.066 0.137 0.123 0.103 0.145 0.129 ...\n",
      " $ Lowenergy_Mean                               : num  0.591 0.439 0.639 0.603 0.591 0.51 0.533 0.575 0.542 0.618 ...\n",
      " $ Fluctuation_Mean                             : num  9.14 6.68 10.58 10.44 9.77 ...\n",
      " $ Tempo_Mean                                   : num  130 142.2 188.2 66 88.9 ...\n",
      " $ MFCC_Mean_1                                  : num  4 4.06 2.77 2.84 3.22 ...\n",
      " $ MFCC_Mean_2                                  : num  0.363 0.516 0.903 1.552 0.228 ...\n",
      " $ MFCC_Mean_3                                  : num  0.887 0.785 0.502 0.612 0.814 0.365 0.939 0.275 0.568 0.537 ...\n",
      " $ MFCC_Mean_4                                  : num  0.078 0.397 0.329 0.351 0.096 0.033 0.358 0.269 0.559 -0.116 ...\n",
      " $ MFCC_Mean_5                                  : num  0.221 0.556 0.287 0.011 0.434 -0.136 0.024 0.257 0.218 0.119 ...\n",
      " $ MFCC_Mean_6                                  : num  0.118 0.799 0.14 0.143 0.285 -0.579 0.201 0.544 -0.029 0.069 ...\n",
      " $ MFCC_Mean_7                                  : num  -0.151 -0.403 -0.246 0.047 0.104 -0.138 0.115 -0.002 -0.196 0.147 ...\n",
      " $ MFCC_Mean_8                                  : num  -0.131 -0.264 0.025 0.242 0.013 -0.033 0.032 -0.084 -0.187 -0.027 ...\n",
      " $ MFCC_Mean_9                                  : num  0.129 -0.057 -0.112 0.018 -0.235 -0.018 -0.088 0.009 0.052 -0.139 ...\n",
      " $ MFCC_Mean_10                                 : num  0.154 0.288 -0.422 0.168 -0.207 0.368 -0.288 0.202 -0.177 0.124 ...\n",
      " $ MFCC_Mean_11                                 : num  0.274 0.309 0.018 0.141 -0.276 0.117 -0.012 -0.101 0.21 0.009 ...\n",
      " $ MFCC_Mean_12                                 : num  0.232 0.049 0.179 0.245 -0.294 0.01 -0.332 -0.091 -0.025 0.031 ...\n",
      " $ MFCC_Mean_13                                 : num  0.246 0.027 0.138 0.146 -0.19 -0.02 -0.17 -0.073 0.277 0.012 ...\n",
      " $ Roughness_Mean                               : num  51.5 336.8 39.9 353.7 46.9 ...\n",
      " $ Roughness_Slope                              : num  0.325 0.366 0.224 0.215 -0.118 0.04 0.272 0.345 0.38 0.185 ...\n",
      " $ Zero_crossingrate_Mean                       : num  403 205 685 580 431 ...\n",
      " $ AttackTime_Mean                              : num  0.028 0.015 0.033 0.029 0.04 0.047 0.052 0.021 0.022 0.037 ...\n",
      " $ AttackTime_Slope                             : num  -0.014 -0.079 -0.278 -0.076 -0.282 -0.05 -0.208 0.089 -0.113 -0.093 ...\n",
      " $ Rolloff_Mean                                 : num  1845 1181 10779 6746 3328 ...\n",
      " $ Eventdensity_Mean                            : num  1.34 1.34 1.34 2.1 1.37 ...\n",
      " $ Pulseclarity_Mean                            : num  0.082 0.051 0.299 0.121 0.208 0.164 0.157 0.123 0.163 0.223 ...\n",
      " $ Brightness_Mean                              : num  0.173 0.117 0.496 0.319 0.279 0.437 0.102 0.328 0.157 0.408 ...\n",
      " $ Spectralcentroid_Mean                        : num  1121 896 4181 2492 1776 ...\n",
      " $ Spectralspread_Mean                          : num  1970 1960 4716 3745 2843 ...\n",
      " $ Spectralskewness_Mean                        : num  3.621 4.134 0.902 1.689 2.739 ...\n",
      " $ Spectralkurtosis_Mean                        : num  18.04 21.99 2.37 4.78 10.63 ...\n",
      " $ Spectralflatness_Mean                        : num  0.03 0.025 0.091 0.053 0.046 0.052 0.023 0.055 0.011 0.049 ...\n",
      " $ EntropyofSpectrum_Mean                       : num  0.806 0.765 0.897 0.84 0.83 0.864 0.744 0.856 0.775 0.876 ...\n",
      " $ Chromagram_Mean_1                            : num  0.496 0 0.412 0.307 0.091 0.09 0.085 0.238 0.563 0.497 ...\n",
      " $ Chromagram_Mean_2                            : num  0 0.142 0.245 0.278 0 0.009 0.007 0.929 0 0 ...\n",
      " $ Chromagram_Mean_3                            : num  0.047 0.137 0.526 0.281 0.022 1 0 0.298 1 0.085 ...\n",
      " $ Chromagram_Mean_4                            : num  0.03 0.076 0.095 0.208 0.396 0 0 0 0 0.465 ...\n",
      " $ Chromagram_Mean_5                            : num  0.314 0.112 0.519 0.733 0.011 0 0.471 0.227 0 0 ...\n",
      " $ Chromagram_Mean_6                            : num  0.038 0 0.001 0.002 0 0.455 0 0 0.159 0.511 ...\n",
      " $ Chromagram_Mean_7                            : num  0.024 0.12 0.563 0.276 0.135 0 0.137 0.359 0 0 ...\n",
      " $ Chromagram_Mean_8                            : num  0.951 0 0.282 0.436 0.635 0.875 0.042 0 0.532 1 ...\n",
      " $ Chromagram_Mean_9                            : num  0.426 0.002 0.184 0.038 0.004 0.064 0 0.128 0 0.127 ...\n",
      " $ Chromagram_Mean_10                           : num  1 1 0.746 1 0.404 0.391 1 1 0.15 0.018 ...\n",
      " $ Chromagram_Mean_11                           : num  0.008 0 0.016 0.161 1 0.102 0 0.03 0.91 0.385 ...\n",
      " $ Chromagram_Mean_12                           : num  0.101 0.984 1 0.757 0.001 0 0.143 0.746 0 0 ...\n",
      " $ HarmonicChangeDetectionFunction_Mean         : num  0.316 0.285 0.413 0.422 0.345 0.28 0.21 0.366 0.322 0.388 ...\n",
      " $ HarmonicChangeDetectionFunction_Std          : num  0.261 0.211 0.299 0.265 0.261 0.24 0.174 0.267 0.21 0.34 ...\n",
      " $ HarmonicChangeDetectionFunction_Slope        : num  0.018 -0.082 0.134 0.042 0.089 0.355 0.193 -0.061 0.031 0.122 ...\n",
      " $ HarmonicChangeDetectionFunction_PeriodFreq   : num  1.035 3.364 1.682 0.354 0.748 ...\n",
      " $ HarmonicChangeDetectionFunction_PeriodAmp    : num  0.593 0.702 0.692 0.743 0.674 0.662 0.691 0.711 0.796 0.627 ...\n",
      " $ HarmonicChangeDetectionFunction_PeriodEntropy: num  0.97 0.967 0.963 0.968 0.957 0.958 0.966 0.965 0.97 0.965 ...\n",
      " - attr(*, \".internal.selfref\")=<externalptr> \n"
     ]
    }
   ],
   "source": [
    "d3=fread(\"C:/Users/pinar/Desktop/Acoustic Features.csv\")\n",
    "head(d3)\n",
    "str(d3)\n",
    "\n",
    "set.seed(43210)"
   ]
  },
  {
   "cell_type": "code",
   "execution_count": 17,
   "id": "f0efb1c8",
   "metadata": {},
   "outputs": [
    {
     "data": {
      "text/html": [
       "<table>\n",
       "<thead><tr><th scope=col>Class</th><th scope=col>RMSenergy_Mean</th><th scope=col>Lowenergy_Mean</th><th scope=col>Fluctuation_Mean</th><th scope=col>Tempo_Mean</th><th scope=col>MFCC_Mean_1</th><th scope=col>MFCC_Mean_2</th><th scope=col>MFCC_Mean_3</th><th scope=col>MFCC_Mean_4</th><th scope=col>MFCC_Mean_5</th><th scope=col>...</th><th scope=col>Chromagram_Mean_9</th><th scope=col>Chromagram_Mean_10</th><th scope=col>Chromagram_Mean_11</th><th scope=col>Chromagram_Mean_12</th><th scope=col>HarmonicChangeDetectionFunction_Mean</th><th scope=col>HarmonicChangeDetectionFunction_Std</th><th scope=col>HarmonicChangeDetectionFunction_Slope</th><th scope=col>HarmonicChangeDetectionFunction_PeriodFreq</th><th scope=col>HarmonicChangeDetectionFunction_PeriodAmp</th><th scope=col>HarmonicChangeDetectionFunction_PeriodEntropy</th></tr></thead>\n",
       "<tbody>\n",
       "\t<tr><td>relax  </td><td>0.125  </td><td>0.439  </td><td> 6.680 </td><td>142.240</td><td>4.058  </td><td> 0.516 </td><td>0.785  </td><td>0.397  </td><td> 0.556 </td><td>...    </td><td>0.002  </td><td>1.000  </td><td>0.000  </td><td>0.984  </td><td>0.285  </td><td>0.211  </td><td>-0.082 </td><td>3.364  </td><td>0.702  </td><td>0.967  </td></tr>\n",
       "\t<tr><td>relax  </td><td>0.046  </td><td>0.639  </td><td>10.578 </td><td>188.154</td><td>2.775  </td><td> 0.903 </td><td>0.502  </td><td>0.329  </td><td> 0.287 </td><td>...    </td><td>0.184  </td><td>0.746  </td><td>0.016  </td><td>1.000  </td><td>0.413  </td><td>0.299  </td><td> 0.134 </td><td>1.682  </td><td>0.692  </td><td>0.963  </td></tr>\n",
       "\t<tr><td>relax  </td><td>0.135  </td><td>0.603  </td><td>10.442 </td><td> 65.991</td><td>2.841  </td><td> 1.552 </td><td>0.612  </td><td>0.351  </td><td> 0.011 </td><td>...    </td><td>0.038  </td><td>1.000  </td><td>0.161  </td><td>0.757  </td><td>0.422  </td><td>0.265  </td><td> 0.042 </td><td>0.354  </td><td>0.743  </td><td>0.968  </td></tr>\n",
       "\t<tr><td>relax  </td><td>0.066  </td><td>0.591  </td><td> 9.769 </td><td> 88.890</td><td>3.217  </td><td> 0.228 </td><td>0.814  </td><td>0.096  </td><td> 0.434 </td><td>...    </td><td>0.004  </td><td>0.404  </td><td>1.000  </td><td>0.001  </td><td>0.345  </td><td>0.261  </td><td> 0.089 </td><td>0.748  </td><td>0.674  </td><td>0.957  </td></tr>\n",
       "\t<tr><td>relax  </td><td>0.137  </td><td>0.510  </td><td> 7.664 </td><td>116.044</td><td>2.313  </td><td>-0.082 </td><td>0.365  </td><td>0.033  </td><td>-0.136 </td><td>...    </td><td>0.064  </td><td>0.391  </td><td>0.102  </td><td>0.000  </td><td>0.280  </td><td>0.240  </td><td> 0.355 </td><td>1.682  </td><td>0.662  </td><td>0.958  </td></tr>\n",
       "\t<tr><td>relax  </td><td>0.103  </td><td>0.575  </td><td> 7.006 </td><td>141.132</td><td>3.495  </td><td> 0.553 </td><td>0.275  </td><td>0.269  </td><td> 0.257 </td><td>...    </td><td>0.128  </td><td>1.000  </td><td>0.030  </td><td>0.746  </td><td>0.366  </td><td>0.267  </td><td>-0.061 </td><td>0.585  </td><td>0.711  </td><td>0.965  </td></tr>\n",
       "</tbody>\n",
       "</table>\n"
      ],
      "text/latex": [
       "\\begin{tabular}{r|lllllllllllllllllllllllllllllllllllllllllllllllllll}\n",
       " Class & RMSenergy\\_Mean & Lowenergy\\_Mean & Fluctuation\\_Mean & Tempo\\_Mean & MFCC\\_Mean\\_1 & MFCC\\_Mean\\_2 & MFCC\\_Mean\\_3 & MFCC\\_Mean\\_4 & MFCC\\_Mean\\_5 & ... & Chromagram\\_Mean\\_9 & Chromagram\\_Mean\\_10 & Chromagram\\_Mean\\_11 & Chromagram\\_Mean\\_12 & HarmonicChangeDetectionFunction\\_Mean & HarmonicChangeDetectionFunction\\_Std & HarmonicChangeDetectionFunction\\_Slope & HarmonicChangeDetectionFunction\\_PeriodFreq & HarmonicChangeDetectionFunction\\_PeriodAmp & HarmonicChangeDetectionFunction\\_PeriodEntropy\\\\\n",
       "\\hline\n",
       "\t relax   & 0.125   & 0.439   &  6.680  & 142.240 & 4.058   &  0.516  & 0.785   & 0.397   &  0.556  & ...     & 0.002   & 1.000   & 0.000   & 0.984   & 0.285   & 0.211   & -0.082  & 3.364   & 0.702   & 0.967  \\\\\n",
       "\t relax   & 0.046   & 0.639   & 10.578  & 188.154 & 2.775   &  0.903  & 0.502   & 0.329   &  0.287  & ...     & 0.184   & 0.746   & 0.016   & 1.000   & 0.413   & 0.299   &  0.134  & 1.682   & 0.692   & 0.963  \\\\\n",
       "\t relax   & 0.135   & 0.603   & 10.442  &  65.991 & 2.841   &  1.552  & 0.612   & 0.351   &  0.011  & ...     & 0.038   & 1.000   & 0.161   & 0.757   & 0.422   & 0.265   &  0.042  & 0.354   & 0.743   & 0.968  \\\\\n",
       "\t relax   & 0.066   & 0.591   &  9.769  &  88.890 & 3.217   &  0.228  & 0.814   & 0.096   &  0.434  & ...     & 0.004   & 0.404   & 1.000   & 0.001   & 0.345   & 0.261   &  0.089  & 0.748   & 0.674   & 0.957  \\\\\n",
       "\t relax   & 0.137   & 0.510   &  7.664  & 116.044 & 2.313   & -0.082  & 0.365   & 0.033   & -0.136  & ...     & 0.064   & 0.391   & 0.102   & 0.000   & 0.280   & 0.240   &  0.355  & 1.682   & 0.662   & 0.958  \\\\\n",
       "\t relax   & 0.103   & 0.575   &  7.006  & 141.132 & 3.495   &  0.553  & 0.275   & 0.269   &  0.257  & ...     & 0.128   & 1.000   & 0.030   & 0.746   & 0.366   & 0.267   & -0.061  & 0.585   & 0.711   & 0.965  \\\\\n",
       "\\end{tabular}\n"
      ],
      "text/markdown": [
       "\n",
       "| Class | RMSenergy_Mean | Lowenergy_Mean | Fluctuation_Mean | Tempo_Mean | MFCC_Mean_1 | MFCC_Mean_2 | MFCC_Mean_3 | MFCC_Mean_4 | MFCC_Mean_5 | ... | Chromagram_Mean_9 | Chromagram_Mean_10 | Chromagram_Mean_11 | Chromagram_Mean_12 | HarmonicChangeDetectionFunction_Mean | HarmonicChangeDetectionFunction_Std | HarmonicChangeDetectionFunction_Slope | HarmonicChangeDetectionFunction_PeriodFreq | HarmonicChangeDetectionFunction_PeriodAmp | HarmonicChangeDetectionFunction_PeriodEntropy |\n",
       "|---|---|---|---|---|---|---|---|---|---|---|---|---|---|---|---|---|---|---|---|---|\n",
       "| relax   | 0.125   | 0.439   |  6.680  | 142.240 | 4.058   |  0.516  | 0.785   | 0.397   |  0.556  | ...     | 0.002   | 1.000   | 0.000   | 0.984   | 0.285   | 0.211   | -0.082  | 3.364   | 0.702   | 0.967   |\n",
       "| relax   | 0.046   | 0.639   | 10.578  | 188.154 | 2.775   |  0.903  | 0.502   | 0.329   |  0.287  | ...     | 0.184   | 0.746   | 0.016   | 1.000   | 0.413   | 0.299   |  0.134  | 1.682   | 0.692   | 0.963   |\n",
       "| relax   | 0.135   | 0.603   | 10.442  |  65.991 | 2.841   |  1.552  | 0.612   | 0.351   |  0.011  | ...     | 0.038   | 1.000   | 0.161   | 0.757   | 0.422   | 0.265   |  0.042  | 0.354   | 0.743   | 0.968   |\n",
       "| relax   | 0.066   | 0.591   |  9.769  |  88.890 | 3.217   |  0.228  | 0.814   | 0.096   |  0.434  | ...     | 0.004   | 0.404   | 1.000   | 0.001   | 0.345   | 0.261   |  0.089  | 0.748   | 0.674   | 0.957   |\n",
       "| relax   | 0.137   | 0.510   |  7.664  | 116.044 | 2.313   | -0.082  | 0.365   | 0.033   | -0.136  | ...     | 0.064   | 0.391   | 0.102   | 0.000   | 0.280   | 0.240   |  0.355  | 1.682   | 0.662   | 0.958   |\n",
       "| relax   | 0.103   | 0.575   |  7.006  | 141.132 | 3.495   |  0.553  | 0.275   | 0.269   |  0.257  | ...     | 0.128   | 1.000   | 0.030   | 0.746   | 0.366   | 0.267   | -0.061  | 0.585   | 0.711   | 0.965   |\n",
       "\n"
      ],
      "text/plain": [
       "  Class RMSenergy_Mean Lowenergy_Mean Fluctuation_Mean Tempo_Mean MFCC_Mean_1\n",
       "1 relax 0.125          0.439           6.680           142.240    4.058      \n",
       "2 relax 0.046          0.639          10.578           188.154    2.775      \n",
       "3 relax 0.135          0.603          10.442            65.991    2.841      \n",
       "4 relax 0.066          0.591           9.769            88.890    3.217      \n",
       "5 relax 0.137          0.510           7.664           116.044    2.313      \n",
       "6 relax 0.103          0.575           7.006           141.132    3.495      \n",
       "  MFCC_Mean_2 MFCC_Mean_3 MFCC_Mean_4 MFCC_Mean_5 ... Chromagram_Mean_9\n",
       "1  0.516      0.785       0.397        0.556      ... 0.002            \n",
       "2  0.903      0.502       0.329        0.287      ... 0.184            \n",
       "3  1.552      0.612       0.351        0.011      ... 0.038            \n",
       "4  0.228      0.814       0.096        0.434      ... 0.004            \n",
       "5 -0.082      0.365       0.033       -0.136      ... 0.064            \n",
       "6  0.553      0.275       0.269        0.257      ... 0.128            \n",
       "  Chromagram_Mean_10 Chromagram_Mean_11 Chromagram_Mean_12\n",
       "1 1.000              0.000              0.984             \n",
       "2 0.746              0.016              1.000             \n",
       "3 1.000              0.161              0.757             \n",
       "4 0.404              1.000              0.001             \n",
       "5 0.391              0.102              0.000             \n",
       "6 1.000              0.030              0.746             \n",
       "  HarmonicChangeDetectionFunction_Mean HarmonicChangeDetectionFunction_Std\n",
       "1 0.285                                0.211                              \n",
       "2 0.413                                0.299                              \n",
       "3 0.422                                0.265                              \n",
       "4 0.345                                0.261                              \n",
       "5 0.280                                0.240                              \n",
       "6 0.366                                0.267                              \n",
       "  HarmonicChangeDetectionFunction_Slope\n",
       "1 -0.082                               \n",
       "2  0.134                               \n",
       "3  0.042                               \n",
       "4  0.089                               \n",
       "5  0.355                               \n",
       "6 -0.061                               \n",
       "  HarmonicChangeDetectionFunction_PeriodFreq\n",
       "1 3.364                                     \n",
       "2 1.682                                     \n",
       "3 0.354                                     \n",
       "4 0.748                                     \n",
       "5 1.682                                     \n",
       "6 0.585                                     \n",
       "  HarmonicChangeDetectionFunction_PeriodAmp\n",
       "1 0.702                                    \n",
       "2 0.692                                    \n",
       "3 0.743                                    \n",
       "4 0.674                                    \n",
       "5 0.662                                    \n",
       "6 0.711                                    \n",
       "  HarmonicChangeDetectionFunction_PeriodEntropy\n",
       "1 0.967                                        \n",
       "2 0.963                                        \n",
       "3 0.968                                        \n",
       "4 0.957                                        \n",
       "5 0.958                                        \n",
       "6 0.965                                        "
      ]
     },
     "metadata": {},
     "output_type": "display_data"
    },
    {
     "data": {
      "text/html": [
       "<table>\n",
       "<thead><tr><th scope=col>Class</th><th scope=col>RMSenergy_Mean</th><th scope=col>Lowenergy_Mean</th><th scope=col>Fluctuation_Mean</th><th scope=col>Tempo_Mean</th><th scope=col>MFCC_Mean_1</th><th scope=col>MFCC_Mean_2</th><th scope=col>MFCC_Mean_3</th><th scope=col>MFCC_Mean_4</th><th scope=col>MFCC_Mean_5</th><th scope=col>...</th><th scope=col>Chromagram_Mean_9</th><th scope=col>Chromagram_Mean_10</th><th scope=col>Chromagram_Mean_11</th><th scope=col>Chromagram_Mean_12</th><th scope=col>HarmonicChangeDetectionFunction_Mean</th><th scope=col>HarmonicChangeDetectionFunction_Std</th><th scope=col>HarmonicChangeDetectionFunction_Slope</th><th scope=col>HarmonicChangeDetectionFunction_PeriodFreq</th><th scope=col>HarmonicChangeDetectionFunction_PeriodAmp</th><th scope=col>HarmonicChangeDetectionFunction_PeriodEntropy</th></tr></thead>\n",
       "<tbody>\n",
       "\t<tr><td>relax  </td><td>0.052  </td><td>0.591  </td><td>9.136  </td><td>130.043</td><td>3.997  </td><td> 0.363 </td><td>0.887  </td><td> 0.078 </td><td> 0.221 </td><td>...    </td><td>0.426  </td><td>1.000  </td><td>0.008  </td><td>0.101  </td><td>0.316  </td><td>0.261  </td><td>0.018  </td><td>1.035  </td><td>0.593  </td><td>0.970  </td></tr>\n",
       "\t<tr><td>relax  </td><td>0.123  </td><td>0.533  </td><td>7.483  </td><td>136.444</td><td>4.572  </td><td> 1.171 </td><td>0.939  </td><td> 0.358 </td><td> 0.024 </td><td>...    </td><td>0.000  </td><td>1.000  </td><td>0.000  </td><td>0.143  </td><td>0.210  </td><td>0.174  </td><td>0.193  </td><td>2.691  </td><td>0.691  </td><td>0.966  </td></tr>\n",
       "\t<tr><td>relax  </td><td>0.129  </td><td>0.618  </td><td>8.668  </td><td> 93.020</td><td>2.318  </td><td> 0.744 </td><td>0.537  </td><td>-0.116 </td><td> 0.119 </td><td>...    </td><td>0.127  </td><td>0.018  </td><td>0.385  </td><td>0.000  </td><td>0.388  </td><td>0.340  </td><td>0.122  </td><td>1.682  </td><td>0.627  </td><td>0.965  </td></tr>\n",
       "\t<tr><td>relax  </td><td>0.068  </td><td>0.659  </td><td>8.580  </td><td>182.302</td><td>2.847  </td><td> 0.211 </td><td>0.781  </td><td> 0.657 </td><td> 0.008 </td><td>...    </td><td>0.418  </td><td>1.000  </td><td>0.006  </td><td>0.266  </td><td>0.326  </td><td>0.340  </td><td>0.133  </td><td>0.396  </td><td>0.667  </td><td>0.953  </td></tr>\n",
       "\t<tr><td>relax  </td><td>0.222  </td><td>0.556  </td><td>7.344  </td><td> 68.658</td><td>3.213  </td><td> 0.805 </td><td>0.612  </td><td> 0.598 </td><td> 0.065 </td><td>...    </td><td>0.206  </td><td>0.482  </td><td>0.037  </td><td>0.809  </td><td>0.406  </td><td>0.210  </td><td>0.064  </td><td>2.243  </td><td>0.771  </td><td>0.969  </td></tr>\n",
       "\t<tr><td>relax  </td><td>0.071  </td><td>0.529  </td><td>5.490  </td><td>116.302</td><td>1.602  </td><td>-0.129 </td><td>0.238  </td><td>-0.289 </td><td>-0.027 </td><td>...    </td><td>0.905  </td><td>0.101  </td><td>0.503  </td><td>0.371  </td><td>0.387  </td><td>0.201  </td><td>0.009  </td><td>1.922  </td><td>0.807  </td><td>0.967  </td></tr>\n",
       "</tbody>\n",
       "</table>\n"
      ],
      "text/latex": [
       "\\begin{tabular}{r|lllllllllllllllllllllllllllllllllllllllllllllllllll}\n",
       " Class & RMSenergy\\_Mean & Lowenergy\\_Mean & Fluctuation\\_Mean & Tempo\\_Mean & MFCC\\_Mean\\_1 & MFCC\\_Mean\\_2 & MFCC\\_Mean\\_3 & MFCC\\_Mean\\_4 & MFCC\\_Mean\\_5 & ... & Chromagram\\_Mean\\_9 & Chromagram\\_Mean\\_10 & Chromagram\\_Mean\\_11 & Chromagram\\_Mean\\_12 & HarmonicChangeDetectionFunction\\_Mean & HarmonicChangeDetectionFunction\\_Std & HarmonicChangeDetectionFunction\\_Slope & HarmonicChangeDetectionFunction\\_PeriodFreq & HarmonicChangeDetectionFunction\\_PeriodAmp & HarmonicChangeDetectionFunction\\_PeriodEntropy\\\\\n",
       "\\hline\n",
       "\t relax   & 0.052   & 0.591   & 9.136   & 130.043 & 3.997   &  0.363  & 0.887   &  0.078  &  0.221  & ...     & 0.426   & 1.000   & 0.008   & 0.101   & 0.316   & 0.261   & 0.018   & 1.035   & 0.593   & 0.970  \\\\\n",
       "\t relax   & 0.123   & 0.533   & 7.483   & 136.444 & 4.572   &  1.171  & 0.939   &  0.358  &  0.024  & ...     & 0.000   & 1.000   & 0.000   & 0.143   & 0.210   & 0.174   & 0.193   & 2.691   & 0.691   & 0.966  \\\\\n",
       "\t relax   & 0.129   & 0.618   & 8.668   &  93.020 & 2.318   &  0.744  & 0.537   & -0.116  &  0.119  & ...     & 0.127   & 0.018   & 0.385   & 0.000   & 0.388   & 0.340   & 0.122   & 1.682   & 0.627   & 0.965  \\\\\n",
       "\t relax   & 0.068   & 0.659   & 8.580   & 182.302 & 2.847   &  0.211  & 0.781   &  0.657  &  0.008  & ...     & 0.418   & 1.000   & 0.006   & 0.266   & 0.326   & 0.340   & 0.133   & 0.396   & 0.667   & 0.953  \\\\\n",
       "\t relax   & 0.222   & 0.556   & 7.344   &  68.658 & 3.213   &  0.805  & 0.612   &  0.598  &  0.065  & ...     & 0.206   & 0.482   & 0.037   & 0.809   & 0.406   & 0.210   & 0.064   & 2.243   & 0.771   & 0.969  \\\\\n",
       "\t relax   & 0.071   & 0.529   & 5.490   & 116.302 & 1.602   & -0.129  & 0.238   & -0.289  & -0.027  & ...     & 0.905   & 0.101   & 0.503   & 0.371   & 0.387   & 0.201   & 0.009   & 1.922   & 0.807   & 0.967  \\\\\n",
       "\\end{tabular}\n"
      ],
      "text/markdown": [
       "\n",
       "| Class | RMSenergy_Mean | Lowenergy_Mean | Fluctuation_Mean | Tempo_Mean | MFCC_Mean_1 | MFCC_Mean_2 | MFCC_Mean_3 | MFCC_Mean_4 | MFCC_Mean_5 | ... | Chromagram_Mean_9 | Chromagram_Mean_10 | Chromagram_Mean_11 | Chromagram_Mean_12 | HarmonicChangeDetectionFunction_Mean | HarmonicChangeDetectionFunction_Std | HarmonicChangeDetectionFunction_Slope | HarmonicChangeDetectionFunction_PeriodFreq | HarmonicChangeDetectionFunction_PeriodAmp | HarmonicChangeDetectionFunction_PeriodEntropy |\n",
       "|---|---|---|---|---|---|---|---|---|---|---|---|---|---|---|---|---|---|---|---|---|\n",
       "| relax   | 0.052   | 0.591   | 9.136   | 130.043 | 3.997   |  0.363  | 0.887   |  0.078  |  0.221  | ...     | 0.426   | 1.000   | 0.008   | 0.101   | 0.316   | 0.261   | 0.018   | 1.035   | 0.593   | 0.970   |\n",
       "| relax   | 0.123   | 0.533   | 7.483   | 136.444 | 4.572   |  1.171  | 0.939   |  0.358  |  0.024  | ...     | 0.000   | 1.000   | 0.000   | 0.143   | 0.210   | 0.174   | 0.193   | 2.691   | 0.691   | 0.966   |\n",
       "| relax   | 0.129   | 0.618   | 8.668   |  93.020 | 2.318   |  0.744  | 0.537   | -0.116  |  0.119  | ...     | 0.127   | 0.018   | 0.385   | 0.000   | 0.388   | 0.340   | 0.122   | 1.682   | 0.627   | 0.965   |\n",
       "| relax   | 0.068   | 0.659   | 8.580   | 182.302 | 2.847   |  0.211  | 0.781   |  0.657  |  0.008  | ...     | 0.418   | 1.000   | 0.006   | 0.266   | 0.326   | 0.340   | 0.133   | 0.396   | 0.667   | 0.953   |\n",
       "| relax   | 0.222   | 0.556   | 7.344   |  68.658 | 3.213   |  0.805  | 0.612   |  0.598  |  0.065  | ...     | 0.206   | 0.482   | 0.037   | 0.809   | 0.406   | 0.210   | 0.064   | 2.243   | 0.771   | 0.969   |\n",
       "| relax   | 0.071   | 0.529   | 5.490   | 116.302 | 1.602   | -0.129  | 0.238   | -0.289  | -0.027  | ...     | 0.905   | 0.101   | 0.503   | 0.371   | 0.387   | 0.201   | 0.009   | 1.922   | 0.807   | 0.967   |\n",
       "\n"
      ],
      "text/plain": [
       "  Class RMSenergy_Mean Lowenergy_Mean Fluctuation_Mean Tempo_Mean MFCC_Mean_1\n",
       "1 relax 0.052          0.591          9.136            130.043    3.997      \n",
       "2 relax 0.123          0.533          7.483            136.444    4.572      \n",
       "3 relax 0.129          0.618          8.668             93.020    2.318      \n",
       "4 relax 0.068          0.659          8.580            182.302    2.847      \n",
       "5 relax 0.222          0.556          7.344             68.658    3.213      \n",
       "6 relax 0.071          0.529          5.490            116.302    1.602      \n",
       "  MFCC_Mean_2 MFCC_Mean_3 MFCC_Mean_4 MFCC_Mean_5 ... Chromagram_Mean_9\n",
       "1  0.363      0.887        0.078       0.221      ... 0.426            \n",
       "2  1.171      0.939        0.358       0.024      ... 0.000            \n",
       "3  0.744      0.537       -0.116       0.119      ... 0.127            \n",
       "4  0.211      0.781        0.657       0.008      ... 0.418            \n",
       "5  0.805      0.612        0.598       0.065      ... 0.206            \n",
       "6 -0.129      0.238       -0.289      -0.027      ... 0.905            \n",
       "  Chromagram_Mean_10 Chromagram_Mean_11 Chromagram_Mean_12\n",
       "1 1.000              0.008              0.101             \n",
       "2 1.000              0.000              0.143             \n",
       "3 0.018              0.385              0.000             \n",
       "4 1.000              0.006              0.266             \n",
       "5 0.482              0.037              0.809             \n",
       "6 0.101              0.503              0.371             \n",
       "  HarmonicChangeDetectionFunction_Mean HarmonicChangeDetectionFunction_Std\n",
       "1 0.316                                0.261                              \n",
       "2 0.210                                0.174                              \n",
       "3 0.388                                0.340                              \n",
       "4 0.326                                0.340                              \n",
       "5 0.406                                0.210                              \n",
       "6 0.387                                0.201                              \n",
       "  HarmonicChangeDetectionFunction_Slope\n",
       "1 0.018                                \n",
       "2 0.193                                \n",
       "3 0.122                                \n",
       "4 0.133                                \n",
       "5 0.064                                \n",
       "6 0.009                                \n",
       "  HarmonicChangeDetectionFunction_PeriodFreq\n",
       "1 1.035                                     \n",
       "2 2.691                                     \n",
       "3 1.682                                     \n",
       "4 0.396                                     \n",
       "5 2.243                                     \n",
       "6 1.922                                     \n",
       "  HarmonicChangeDetectionFunction_PeriodAmp\n",
       "1 0.593                                    \n",
       "2 0.691                                    \n",
       "3 0.627                                    \n",
       "4 0.667                                    \n",
       "5 0.771                                    \n",
       "6 0.807                                    \n",
       "  HarmonicChangeDetectionFunction_PeriodEntropy\n",
       "1 0.970                                        \n",
       "2 0.966                                        \n",
       "3 0.965                                        \n",
       "4 0.953                                        \n",
       "5 0.969                                        \n",
       "6 0.967                                        "
      ]
     },
     "metadata": {},
     "output_type": "display_data"
    }
   ],
   "source": [
    "# Test and train splitting\n",
    "split3 <- sample(c(rep(0, 0.7 * nrow(d3)), rep(1, 0.3 * nrow(d3))))\n",
    "\n",
    "traindata3 <- d3[split3 == 0, ]\n",
    "testdata3 <- d3[split3 == 1, ]\n",
    "\n",
    "head(traindata3)\n",
    "head(testdata3)"
   ]
  },
  {
   "cell_type": "code",
   "execution_count": 18,
   "id": "9a61d26f",
   "metadata": {},
   "outputs": [
    {
     "name": "stderr",
     "output_type": "stream",
     "text": [
      "Warning message:\n",
      "\"extra=106 but the response has 4 levels (only the 2nd level is displayed)\""
     ]
    },
    {
     "data": {
      "image/png": "[encoded data removed]",
      "text/plain": [
       "plot without title"
      ]
     },
     "metadata": {},
     "output_type": "display_data"
    }
   ],
   "source": [
    "# Decision tree algorithm\n",
    "\n",
    "dt3 <- rpart(Class ~ ., data= traindata3, method= \"class\")\n",
    "rpart.plot(dt3, type = 2, extra=106, box.palette = \"Oranges\")"
   ]
  },
  {
   "cell_type": "code",
   "execution_count": 21,
   "id": "6f7fcc24",
   "metadata": {},
   "outputs": [
    {
     "data": {
      "text/plain": [
       "       predictdata_dt3\n",
       "        angry happy relax sad\n",
       "  angry    23     4     2   3\n",
       "  happy     3    24     0   2\n",
       "  relax     2     0    16  15\n",
       "  sad       1     1     4  20"
      ]
     },
     "metadata": {},
     "output_type": "display_data"
    },
    {
     "name": "stdout",
     "output_type": "stream",
     "text": [
      "[1] \"Accuracy for decision tree algorithm 0.691666666666667\"\n"
     ]
    }
   ],
   "source": [
    "# Prediction\n",
    "\n",
    "predictdata_dt3 <- predict(dt3,testdata3, type=\"class\")\n",
    "\n",
    "table_mat1_3 <- table(testdata3$Class, predictdata_dt3)\n",
    "table_mat1_3\n",
    "\n",
    "# Accuracy\n",
    "accuracy_Test1_3 <- sum(diag(table_mat1_3)) / sum(table_mat1_3)\n",
    "print(paste('Accuracy for decision tree algorithm', accuracy_Test1_3))"
   ]
  },
  {
   "cell_type": "code",
   "execution_count": 22,
   "id": "9c446775",
   "metadata": {},
   "outputs": [
    {
     "ename": "ERROR",
     "evalue": "Error in randomForest(as.factor(Class) ~ ., data = traindata3, ntree = 500, : \"randomForest\" fonksiyonu bulunamadı\n",
     "output_type": "error",
     "traceback": [
      "Error in randomForest(as.factor(Class) ~ ., data = traindata3, ntree = 500, : \"randomForest\" fonksiyonu bulunamadı\nTraceback:\n"
     ]
    }
   ],
   "source": [
    "# Random forest algorithm\n",
    "\n",
    "rf3 <- randomForest(as.factor(Class) ~ ., data = traindata3, ntree= 500, nodesize =5, type= \"class\")\n",
    "rf3"
   ]
  },
  {
   "cell_type": "raw",
   "id": "3187c7ed",
   "metadata": {},
   "source": [
    "# Random forest algorithm\n",
    "\n",
    "rf3 <- randomForest(as.factor(Class) ~ ., data = traindata3, ntree= 500, nodesize =5, type= \"class\")\n",
    "rf3\n",
    "\n",
    "Call:\n",
    " randomForest(formula = as.factor(Class) ~ ., data = traindata3,      ntree = 500, nodesize = 5, type = \"class\") \n",
    "               Type of random forest: classification\n",
    "                     Number of trees: 500\n",
    "No. of variables tried at each split: 7\n",
    "\n",
    "        OOB estimate of  error rate: 21.43%\n",
    "Confusion matrix:\n",
    "      angry happy relax sad class.error\n",
    "angry    59     4     0   5   0.1323529\n",
    "happy     3    63     1   4   0.1126761\n",
    "relax     1     1    50  15   0.2537313\n",
    "sad       6     4    16  48   0.3513514"
   ]
  },
  {
   "cell_type": "code",
   "execution_count": 24,
   "id": "3109b979",
   "metadata": {},
   "outputs": [
    {
     "ename": "ERROR",
     "evalue": "Error in which.min(rf3$mse): 'rf3' nesnesi bulunamadı\n",
     "output_type": "error",
     "traceback": [
      "Error in which.min(rf3$mse): 'rf3' nesnesi bulunamadı\nTraceback:\n",
      "1. which.min(rf3$mse)"
     ]
    }
   ],
   "source": [
    "# Number of trees with lowest MSE\n",
    "which.min(rf3$mse)\n",
    "\n",
    "# Produce variable importance plot\n",
    "varImpPlot(rf3)\n",
    "\n",
    "# Number of trees with lowest MSE\n",
    "which.min(rf3$mse)\n",
    "\n",
    "# Produce variable importance plot\n",
    "varImpPlot(rf3)"
   ]
  },
  {
   "cell_type": "raw",
   "id": "0d2fc225",
   "metadata": {},
   "source": [
    "# Number of trees with lowest MSE\n",
    "which.min(rf3$mse)\n",
    "integer(0)\n",
    "\n",
    "# Produce variable importance plot\n",
    "varImpPlot(rf3)"
   ]
  },
  {
   "attachments": {
    "image.png": {
     "image/png": "[encoded data removed]"
    }
   },
   "cell_type": "markdown",
   "id": "bd24b8ba",
   "metadata": {},
   "source": [
    "![image.png](attachment:image.png)"
   ]
  },
  {
   "cell_type": "code",
   "execution_count": 25,
   "id": "94836f52",
   "metadata": {},
   "outputs": [
    {
     "ename": "ERROR",
     "evalue": "Error in tuneRF(traindata3[, 2:50], as.factor(traindata3$Class), ntreeTry = 500, : \"tuneRF\" fonksiyonu bulunamadı\n",
     "output_type": "error",
     "traceback": [
      "Error in tuneRF(traindata3[, 2:50], as.factor(traindata3$Class), ntreeTry = 500, : \"tuneRF\" fonksiyonu bulunamadı\nTraceback:\n"
     ]
    }
   ],
   "source": [
    "# Tuning\n",
    "model_tuned3 <- tuneRF(\n",
    "  traindata3[,2:50], # define predictor variables\n",
    "  as.factor(traindata3$Class), # define response variable\n",
    "  ntreeTry=500,\n",
    "  mtryStart=4, \n",
    "  stepFactor=1.5,\n",
    "  improve=0.01,\n",
    "  trace=FALSE) #don't show real-time progress\n",
    "\n",
    "best.m3 <- model_tuned3[model_tuned3[, 2] == min(model_tuned3[, 2]), 1]\n",
    "print(model_tuned3)\n",
    "print(best.m3)"
   ]
  },
  {
   "cell_type": "raw",
   "id": "4a20263a",
   "metadata": {},
   "source": [
    "# Tuning\n",
    "model_tuned3 <- tuneRF(\n",
    "+   traindata3[,2:50], # define predictor variables\n",
    "+   as.factor(traindata3$Class), # define response variable\n",
    "+   ntreeTry=500,\n",
    "+   mtryStart=4, \n",
    "+   stepFactor=1.5,\n",
    "+   improve=0.01,\n",
    "+   trace=FALSE) #don't show real-time progress\n",
    "0.01754386 0.01 \n",
    "-0.1964286 0.01 \n",
    "-0.1428571 0.01 \n",
    " \n",
    "best.m3 <- model_tuned3[model_tuned3[, 2] == min(model_tuned3[, 2]), 1]\n",
    "print(model_tuned3)\n",
    "      mtry  OOBError\n",
    "2.OOB    2 0.2392857\n",
    "3.OOB    3 0.2000000\n",
    "4.OOB    4 0.2035714\n",
    "6.OOB    6 0.2285714\n",
    "> print(best.m3)\n",
    "[1] 3"
   ]
  },
  {
   "attachments": {
    "image.png": {
     "image/png": "[encoded data removed]"
    }
   },
   "cell_type": "markdown",
   "id": "947e328c",
   "metadata": {},
   "source": [
    "![image.png](attachment:image.png)"
   ]
  },
  {
   "cell_type": "code",
   "execution_count": 26,
   "id": "14d4f6ca",
   "metadata": {},
   "outputs": [
    {
     "ename": "ERROR",
     "evalue": "Error in randomForest(as.factor(Class) ~ ., data = traindata3, ntree = 500, : \"randomForest\" fonksiyonu bulunamadı\n",
     "output_type": "error",
     "traceback": [
      "Error in randomForest(as.factor(Class) ~ ., data = traindata3, ntree = 500, : \"randomForest\" fonksiyonu bulunamadı\nTraceback:\n"
     ]
    }
   ],
   "source": [
    "# set best.m\n",
    "set.seed(3210)\n",
    "rf3 <- randomForest(as.factor(Class) ~ ., data = traindata3, ntree= 500, mtry=best.m3, nodesize= 5, type=\"class\")\n",
    "rf3\n",
    "plot(rf3)"
   ]
  },
  {
   "cell_type": "code",
   "execution_count": 27,
   "id": "73d74d3e",
   "metadata": {},
   "outputs": [
    {
     "ename": "ERROR",
     "evalue": "Error in predict(rf3, testdata3): 'rf3' nesnesi bulunamadı\n",
     "output_type": "error",
     "traceback": [
      "Error in predict(rf3, testdata3): 'rf3' nesnesi bulunamadı\nTraceback:\n",
      "1. predict(rf3, testdata3)"
     ]
    }
   ],
   "source": [
    "#Prediction\n",
    "predictdata_rf3 <-predict(rf3, testdata3)\n",
    "table(predictdata_rf3, testdata3$Class)\n",
    "\n",
    "#Accuracy\n",
    "table_mat2_3 <- table(testdata3$Class, predictdata_rf3)\n",
    "\n",
    "accuracy_Test2_3 <- sum(diag(table_mat2_3)) / sum(table_mat2_3)\n",
    "print(paste('Accuracy for random forest algorithm', accuracy_Test2_3))"
   ]
  },
  {
   "cell_type": "raw",
   "id": "e03c09d7",
   "metadata": {},
   "source": [
    "#Prediction\n",
    "predictdata_rf3 <-predict(rf3, testdata3)\n",
    "table(predictdata_rf3, testdata3$Class)\n",
    "               \n",
    "predictdata_rf3 angry happy relax sad\n",
    "          angry    27     1     0   0\n",
    "          happy     1    27     1   3\n",
    "          relax     0     0    28   3\n",
    "          sad       4     1     4  20\n",
    "\n",
    "#Accuracy\n",
    "table_mat2_3 <- table(testdata3$Class, predictdata_rf3)\n",
    " \n",
    "accuracy_Test2_3 <- sum(diag(table_mat2_3)) / sum(table_mat2_3)\n",
    "print(paste('Accuracy for random forest algorithm', accuracy_Test2_3))\n",
    "[1] \"Accuracy for random forest algorithm 0.85\""
   ]
  },
  {
   "cell_type": "markdown",
   "id": "2e032823",
   "metadata": {},
   "source": [
    "### Conclusion for Dataset 2\n",
    "\n",
    "DT accuracy is 69% whereas accuracy in RF is less than 85%. RF performed better for this data.  "
   ]
  },
  {
   "cell_type": "markdown",
   "id": "7a876d13",
   "metadata": {},
   "source": [
    "## Overall Conclusion\n",
    "RF performed bad at 2 datasets, this can be because they are numeric but the last one is non-numeric."
   ]
  }
 ],
 "metadata": {
  "kernelspec": {
   "display_name": "R",
   "language": "R",
   "name": "ir"
  },
  "language_info": {
   "codemirror_mode": "r",
   "file_extension": ".r",
   "mimetype": "text/x-r-source",
   "name": "R",
   "pygments_lexer": "r",
   "version": "3.6.1"
  }
 },
 "nbformat": 4,
 "nbformat_minor": 5
}
